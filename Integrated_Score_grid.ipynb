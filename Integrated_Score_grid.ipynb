{
 "cells": [
  {
   "cell_type": "code",
   "execution_count": 40,
   "id": "f18adce5-00c6-4ee0-80b9-40495ecd394f",
   "metadata": {},
   "outputs": [],
   "source": [
    "from pycaret.regression import *\n",
    "import pandas as pd \n",
    "import numpy as np \n",
    "import matplotlib.pyplot as plt \n",
    "import seaborn as sns \n",
    "\n",
    "from sklearn.preprocessing import StandardScaler\n",
    "from sklearn.linear_model import *\n",
    "from sklearn.kernel_ridge import KernelRidge\n",
    "from sklearn.neighbors import KNeighborsRegressor\n",
    "from sklearn.svm import SVR\n",
    "from sklearn.ensemble import *\n",
    "from xgboost.sklearn import XGBRegressor\n",
    "from lightgbm.sklearn import LGBMRegressor\n",
    "from catboost.core import CatBoostRegressor\n",
    "from sklearn.neural_network import MLPRegressor\n",
    "from sklearn.tree import DecisionTreeRegressor\n",
    "from sklearn.gaussian_process import GaussianProcessRegressor\n",
    "from sklearn.gaussian_process.kernels import RBF, DotProduct\n",
    "\n",
    "# MAE, MSE, RMSE\n",
    "import math\n",
    "from sklearn.metrics import mean_absolute_error, mean_squared_error, mean_squared_log_error, r2_score, mean_absolute_percentage_error"
   ]
  },
  {
   "cell_type": "code",
   "execution_count": 41,
   "id": "7fb2c0c0-b396-4f72-b419-e62af49688ea",
   "metadata": {},
   "outputs": [],
   "source": [
    "ixi_train_sg = pd.read_csv('./new_IXI/ixi_best_model_train_score_full.csv', index_col=0)\n",
    "ixi_test_sg = pd.read_csv('./new_IXI/ixi_best_model_test_score_full.csv', index_col=0)\n",
    "\n",
    "hcp_train_sg = pd.read_csv('./new_HCP/hcp_best_model_train_score_full.csv', index_col=0)\n",
    "hcp_test_sg = pd.read_csv('./new_HCP/hcp_best_model_test_score_full.csv', index_col=0)\n",
    "\n",
    "cc_train_sg = pd.read_csv('./new_CAMCAN/cc_best_model_train_score_full.csv', index_col=0)\n",
    "cc_test_sg = pd.read_csv('./new_CAMCAN/cc_best_model_test_score_full.csv', index_col=0)"
   ]
  },
  {
   "cell_type": "code",
   "execution_count": 42,
   "id": "5263aec1-1165-4078-bfaf-5f86106de142",
   "metadata": {},
   "outputs": [],
   "source": [
    "\n",
    "test_convert_name_dict = {'Adaboost':'Adaboost', \n",
    "                     'ARD':'ARD', \n",
    "                     'Bayesian Ridge':'Bayesianridge', \n",
    "                     'Decision Tree':'Decisiontree',\n",
    "                     'ElasticNet':'Elasticnet',\n",
    "                     'ExtraTreesRegressor':'ExtraTrees', \n",
    "                     'XGBRegressor':'XGboost', \n",
    "                     'GradientBoostingRegressor':'Gradientboosting',\n",
    "                     'HuberRegressor':'Huber', \n",
    "                     'KNeighborRegressor':'Kneighbors', \n",
    "                     'KernelRidge':'Kernelridge', \n",
    "                     'LassoLars':'LassoLars',\n",
    "                     'Lasso':'Lasso', \n",
    "                     'Lars':'Lars', \n",
    "                     'LGBMRegressor':'LightGBM', \n",
    "                     'LinearRegression':'LinearRegression', \n",
    "                     'MLPRegressor':'MLP', \n",
    "                     'OrthogonalMatchingPursuit':'OMP',\n",
    "                     'PassiveAggressiveRegressor':'PAR',\n",
    "                     'RandomForestRegressor':'Randomforest', \n",
    "                     'RANSAC':'RANSAC', \n",
    "                     'Ridge':'Ridge',\n",
    "                     'SVR':'SVR',\n",
    "                     'Catboost':'CatBoost',\n",
    "                     'GaussianProcess':'GaussianProcess', \n",
    "                     'TheilsenRegressor':'TheilSen'}\n",
    "\n",
    "\n",
    "train_convert_name_dict = {'AdaBoost Regressor':'Adaboost', \n",
    "                     'Automatic Relevance Determination':'ARD', \n",
    "                     'Bayesian Ridge':'Bayesianridge', \n",
    "                     'Decision Tree Regressor':'Decisiontree',\n",
    "                     'Elastic Net':'Elasticnet',\n",
    "                     'Extra Trees Regressor':'ExtraTrees', \n",
    "                     'Extreme Gradient Boosting':'XGboost', \n",
    "                     'Gradient Boosting Regressor':'Gradientboosting',\n",
    "                     'Huber Regressor':'Huber', \n",
    "                     'K Neighbors Regressor':'Kneighbors', \n",
    "                     'Kernel Ridge':'Kernelridge', \n",
    "                     'Lasso Least Angle Regression':'LassoLars',\n",
    "                     'Lasso Regression':'Lasso', \n",
    "                     'Least Angle Regression':'Lars', \n",
    "                     'Light Gradient Boosting Machine':'LightGBM', \n",
    "                     'Linear Regression':'LinearRegression', \n",
    "                     'MLP Regressor':'MLP', \n",
    "                     'Orthogonal Matching Pursuit':'OMP',\n",
    "                     'Passive Aggressive Regressor':'PAR',\n",
    "                     'Random Forest Regressor':'Randomforest', \n",
    "                     'Random Sample Consensus':'RANSAC', \n",
    "                     'Ridge Regression':'Ridge',\n",
    "                     'Support Vector Regression':'SVR',\n",
    "                     'CatBoost Regressor':'CatBoost',\n",
    "                     'GaussianProcessRegressor':'GaussianProcess', \n",
    "                     'TheilSen Regressor':'TheilSen'}\n",
    "\n",
    "\n",
    "def convert_model_name(pre_model, mode):\n",
    "    if mode == 'train':\n",
    "        return train_convert_name_dict[pre_model]\n",
    "    elif mode == 'test':\n",
    "        return test_convert_name_dict[pre_model]"
   ]
  },
  {
   "cell_type": "code",
   "execution_count": 43,
   "id": "45e72c89-4466-44dd-938d-6f7e09d4b25f",
   "metadata": {},
   "outputs": [],
   "source": [
    "ixi_train_sg['Model'] = ixi_train_sg['Model'].apply(lambda x : convert_model_name(x, mode='train'))\n",
    "ixi_test_sg['Model'] = ixi_test_sg['Model'].apply(lambda x : convert_model_name(x, mode='test'))\n",
    "\n",
    "hcp_train_sg['Model'] = hcp_train_sg['Model'].apply(lambda x : convert_model_name(x, mode='train'))\n",
    "hcp_test_sg['Model'] = hcp_test_sg['Model'].apply(lambda x : convert_model_name(x, mode='test'))\n",
    "\n",
    "cc_train_sg['Model'] = cc_train_sg['Model'].apply(lambda x : convert_model_name(x, mode='train'))\n",
    "cc_test_sg['Model'] = cc_test_sg['Model'].apply(lambda x : convert_model_name(x, mode='test'))"
   ]
  },
  {
   "cell_type": "code",
   "execution_count": 44,
   "id": "2fad1be2-11c2-4731-924c-36f295d0d5ec",
   "metadata": {},
   "outputs": [],
   "source": [
    "ixi_train_sg = ixi_train_sg.sort_values('Model').reset_index(drop=True)\n",
    "ixi_test_sg = ixi_test_sg.sort_values('Model').reset_index(drop=True)\n",
    "\n",
    "hcp_train_sg = hcp_train_sg.sort_values('Model').reset_index(drop=True)\n",
    "hcp_test_sg = hcp_test_sg.sort_values('Model').reset_index(drop=True)\n",
    "\n",
    "cc_train_sg = cc_train_sg.sort_values('Model').reset_index(drop=True)\n",
    "cc_test_sg = cc_test_sg.sort_values('Model').reset_index(drop=True)"
   ]
  },
  {
   "cell_type": "markdown",
   "id": "7d89db15-f276-4185-aa22-c2ed9a6fe211",
   "metadata": {},
   "source": [
    "**Dataset의 순서는 HCP, IXI, CAMCAN의 순서로 할 것이며, Train과 Test에 대해서 각각 별도의 Score Grid를 생성할 것이다.**"
   ]
  },
  {
   "cell_type": "code",
   "execution_count": 45,
   "id": "9d32e74e-43b3-4842-bfd9-a53f4e9fe003",
   "metadata": {},
   "outputs": [],
   "source": [
    "ixi_train_sg = ixi_train_sg.drop('Model', axis=1)\n",
    "cc_train_sg = cc_train_sg.drop('Model', axis=1)"
   ]
  },
  {
   "cell_type": "code",
   "execution_count": 46,
   "id": "be3b6854-16c6-4643-b80b-00cd68153721",
   "metadata": {},
   "outputs": [],
   "source": [
    "integrated_train_sg = pd.concat([hcp_train_sg, ixi_train_sg, cc_train_sg], axis=1)"
   ]
  },
  {
   "cell_type": "code",
   "execution_count": 47,
   "id": "0cbc7065-eb35-46ac-a4e4-0349af3d37a7",
   "metadata": {},
   "outputs": [],
   "source": [
    "integrated_train_sg.to_csv('./integrated_train_sg.csv')"
   ]
  },
  {
   "cell_type": "code",
   "execution_count": 48,
   "id": "63b578ff-74bb-4ca4-ae32-87e4c5b80601",
   "metadata": {},
   "outputs": [],
   "source": [
    "ixi_test_sg = ixi_test_sg.drop('Model', axis=1)\n",
    "cc_test_sg = cc_test_sg.drop('Model', axis=1)"
   ]
  },
  {
   "cell_type": "code",
   "execution_count": 49,
   "id": "5b57c920-2032-4d44-b5a8-e9340836806d",
   "metadata": {},
   "outputs": [],
   "source": [
    "integrated_test_sg = pd.concat([hcp_test_sg, ixi_test_sg, cc_test_sg], axis=1)\n",
    "integrated_test_sg.to_csv('./integrated_test_sg.csv')"
   ]
  },
  {
   "cell_type": "code",
   "execution_count": null,
   "id": "4b22a577-ebea-4100-9a39-a69f644b27b7",
   "metadata": {},
   "outputs": [],
   "source": []
  }
 ],
 "metadata": {
  "kernelspec": {
   "display_name": "pycaret",
   "language": "python",
   "name": "pycaret"
  },
  "language_info": {
   "codemirror_mode": {
    "name": "ipython",
    "version": 3
   },
   "file_extension": ".py",
   "mimetype": "text/x-python",
   "name": "python",
   "nbconvert_exporter": "python",
   "pygments_lexer": "ipython3",
   "version": "3.8.13"
  }
 },
 "nbformat": 4,
 "nbformat_minor": 5
}
