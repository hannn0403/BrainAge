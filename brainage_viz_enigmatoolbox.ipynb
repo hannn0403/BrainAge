{
 "cells": [
  {
   "cell_type": "code",
   "execution_count": 1,
   "id": "8bb160d2",
   "metadata": {
    "pycharm": {
     "name": "#%%\n"
    }
   },
   "outputs": [
    {
     "data": {
      "text/html": [
       "<div>\n",
       "<style scoped>\n",
       "    .dataframe tbody tr th:only-of-type {\n",
       "        vertical-align: middle;\n",
       "    }\n",
       "\n",
       "    .dataframe tbody tr th {\n",
       "        vertical-align: top;\n",
       "    }\n",
       "\n",
       "    .dataframe thead th {\n",
       "        text-align: right;\n",
       "    }\n",
       "</style>\n",
       "<table border=\"1\" class=\"dataframe\">\n",
       "  <thead>\n",
       "    <tr style=\"text-align: right;\">\n",
       "      <th></th>\n",
       "      <th>Unnamed: 0</th>\n",
       "      <th>unknown</th>\n",
       "      <th>gbr</th>\n",
       "      <th>ls</th>\n",
       "      <th>gp</th>\n",
       "      <th>Gradient Boosting Regressor</th>\n",
       "      <th>Lasso</th>\n",
       "      <th>Gaussian Process</th>\n",
       "      <th>Gradient Boosting Regressor scale</th>\n",
       "      <th>Lasso scale</th>\n",
       "      <th>Gaussian Process scale</th>\n",
       "    </tr>\n",
       "  </thead>\n",
       "  <tbody>\n",
       "    <tr>\n",
       "      <th>0</th>\n",
       "      <td>L_bankssts</td>\n",
       "      <td>lh_bankssts_area</td>\n",
       "      <td>NaN</td>\n",
       "      <td>-0.017376</td>\n",
       "      <td>-0.01632</td>\n",
       "      <td>0.000000</td>\n",
       "      <td>0.032624</td>\n",
       "      <td>0.03368</td>\n",
       "      <td>1.094061</td>\n",
       "      <td>NaN</td>\n",
       "      <td>NaN</td>\n",
       "    </tr>\n",
       "    <tr>\n",
       "      <th>1</th>\n",
       "      <td>L_caudalanteriorcingulate</td>\n",
       "      <td>lh_caudalanteriorcingulate_area</td>\n",
       "      <td>NaN</td>\n",
       "      <td>0.000000</td>\n",
       "      <td>0.00000</td>\n",
       "      <td>0.000000</td>\n",
       "      <td>0.000000</td>\n",
       "      <td>0.00000</td>\n",
       "      <td>1.094061</td>\n",
       "      <td>NaN</td>\n",
       "      <td>NaN</td>\n",
       "    </tr>\n",
       "    <tr>\n",
       "      <th>2</th>\n",
       "      <td>L_caudalmiddlefrontal</td>\n",
       "      <td>lh_caudalmiddlefrontal_area</td>\n",
       "      <td>NaN</td>\n",
       "      <td>0.000000</td>\n",
       "      <td>0.00000</td>\n",
       "      <td>0.000000</td>\n",
       "      <td>0.000000</td>\n",
       "      <td>0.00000</td>\n",
       "      <td>0.094061</td>\n",
       "      <td>NaN</td>\n",
       "      <td>NaN</td>\n",
       "    </tr>\n",
       "    <tr>\n",
       "      <th>3</th>\n",
       "      <td>L_cuneus</td>\n",
       "      <td>lh_cuneus_area</td>\n",
       "      <td>NaN</td>\n",
       "      <td>0.000000</td>\n",
       "      <td>0.00000</td>\n",
       "      <td>0.000000</td>\n",
       "      <td>0.000000</td>\n",
       "      <td>0.00000</td>\n",
       "      <td>0.094061</td>\n",
       "      <td>NaN</td>\n",
       "      <td>NaN</td>\n",
       "    </tr>\n",
       "    <tr>\n",
       "      <th>4</th>\n",
       "      <td>L_entorhinal</td>\n",
       "      <td>lh_entorhinal_area</td>\n",
       "      <td>0.002268</td>\n",
       "      <td>0.000000</td>\n",
       "      <td>0.00000</td>\n",
       "      <td>0.027268</td>\n",
       "      <td>0.000000</td>\n",
       "      <td>0.00000</td>\n",
       "      <td>0.204504</td>\n",
       "      <td>NaN</td>\n",
       "      <td>NaN</td>\n",
       "    </tr>\n",
       "  </tbody>\n",
       "</table>\n",
       "</div>"
      ],
      "text/plain": [
       "                  Unnamed: 0                          unknown       gbr  \\\n",
       "0                 L_bankssts                 lh_bankssts_area       NaN   \n",
       "1  L_caudalanteriorcingulate  lh_caudalanteriorcingulate_area       NaN   \n",
       "2      L_caudalmiddlefrontal      lh_caudalmiddlefrontal_area       NaN   \n",
       "3                   L_cuneus                   lh_cuneus_area       NaN   \n",
       "4               L_entorhinal               lh_entorhinal_area  0.002268   \n",
       "\n",
       "         ls       gp  Gradient Boosting Regressor     Lasso  Gaussian Process  \\\n",
       "0 -0.017376 -0.01632                     0.000000  0.032624           0.03368   \n",
       "1  0.000000  0.00000                     0.000000  0.000000           0.00000   \n",
       "2  0.000000  0.00000                     0.000000  0.000000           0.00000   \n",
       "3  0.000000  0.00000                     0.000000  0.000000           0.00000   \n",
       "4  0.000000  0.00000                     0.027268  0.000000           0.00000   \n",
       "\n",
       "   Gradient Boosting Regressor scale  Lasso scale  Gaussian Process scale  \n",
       "0                           1.094061          NaN                     NaN  \n",
       "1                           1.094061          NaN                     NaN  \n",
       "2                           0.094061          NaN                     NaN  \n",
       "3                           0.094061          NaN                     NaN  \n",
       "4                           0.204504          NaN                     NaN  "
      ]
     },
     "execution_count": 1,
     "metadata": {},
     "output_type": "execute_result"
    }
   ],
   "source": [
    "import numpy as np\n",
    "from numpy import asarray\n",
    "import pandas as pd\n",
    "import matplotlib.pyplot as plt\n",
    "\n",
    "dflist_ar = \"./revision_shap_mean_absolute/viz/cc_feature_importance_ar.csv\"\n",
    "dflist_ct = \"./revision_shap_mean_absolute/viz/cc_feature_importance_ar.csv\"\n",
    "\n",
    "df_ar = pd.read_csv(dflist_ar)\n",
    "df_ar.head()\n",
    "\n"
   ]
  },
  {
   "cell_type": "markdown",
   "id": "0678c342",
   "metadata": {
    "pycharm": {
     "name": "#%% md\n"
    }
   },
   "source": [
    "## area / thickness viz"
   ]
  },
  {
   "cell_type": "markdown",
   "id": "38050aab",
   "metadata": {
    "pycharm": {
     "name": "#%% md\n"
    }
   },
   "source": [
    "### GBR"
   ]
  },
  {
   "cell_type": "code",
   "execution_count": 2,
   "id": "7d072f43",
   "metadata": {
    "pycharm": {
     "name": "#%%\n"
    }
   },
   "outputs": [],
   "source": [
    "flot_data_ar = np.array(df_ar[\"Gradient Boosting Regressor scale\"])\n",
    "#flot_data_ar = abs(flot_data_ar)\n",
    "\n",
    "df_ct = pd.read_csv(dflist_ct)\n",
    "\n",
    "flot_data_ct = np.array(df_ct[\"Gradient Boosting Regressor scale\"])\n",
    "#flot_data_ct = abs(flot_data_ct)\n",
    "#flot_data"
   ]
  },
  {
   "cell_type": "code",
   "execution_count": 11,
   "id": "b1999a4e",
   "metadata": {
    "pycharm": {
     "name": "#%%\n"
    }
   },
   "outputs": [],
   "source": [
    "from enigmatoolbox.datasets import load_summary_stats\n",
    "\n",
    "# Load summary statistics for ENIGMA-22q\n",
    "sum_stats = load_summary_stats('22q')\n",
    "\n",
    "# Get case-control cortical thickness and surface area tables\n",
    "CT = sum_stats['CortThick_case_vs_controls']\n",
    "SA = sum_stats['CortSurf_case_vs_controls']\n",
    "\n",
    "# Extract Cohen's d values\n",
    "CT_d = CT['d_icv']\n",
    "SA_d = SA['d_icv']"
   ]
  },
  {
   "cell_type": "code",
   "execution_count": 12,
   "id": "e2236766",
   "metadata": {
    "pycharm": {
     "name": "#%%\n"
    }
   },
   "outputs": [],
   "source": [
    "from enigmatoolbox.datasets import load_example_data\n",
    "\n",
    "# Load all example data from an individual site\n",
    "cov, metr1_SubVol, metr2_CortThick, metr3_CortSurf = load_example_data()"
   ]
  },
  {
   "cell_type": "code",
   "execution_count": 128,
   "id": "95e0f808",
   "metadata": {
    "pycharm": {
     "name": "#%%\n"
    }
   },
   "outputs": [
    {
     "data": {
      "text/plain": [
       "'C:\\\\Users\\\\AIMS04\\\\Desktop\\\\AIMS LAB\\\\Code\\\\visualization\\\\cc_thickness_GBRtest_scale.png'"
      ]
     },
     "execution_count": 128,
     "metadata": {},
     "output_type": "execute_result"
    }
   ],
   "source": [
    "from enigmatoolbox.utils.parcellation import parcel_to_surface\n",
    "from enigmatoolbox.plotting import plot_cortical\n",
    "\n",
    "\n",
    "# Map parcellated data to the surface\n",
    "area = parcel_to_surface(flot_data_ar, 'aparc_fsa5')\n",
    "thickness = parcel_to_surface(flot_data_ct, 'aparc_fsa5')\n",
    "\n",
    "# Project the results on the surface brain\n",
    "plot_cortical(array_name=area, surface_name=\"fsa5\", size=(800, 250),\n",
    "              cmap='Reds', color_bar=\"bottom\", color_range=(0, 1), share=\"both\",zoom =1.2,scale=2,\n",
    "              screenshot=True, filename=\"cc_area_GBRtest_scale.png\", transparent_bg =True)\n",
    "\n",
    "plot_cortical(array_name=thickness, surface_name=\"fsa5\", size=(800, 400),\n",
    "              cmap='Blues', color_bar=\"bottom\", color_range=(0, 1), share=\"both\",zoom =1.2,scale=2,\n",
    "              screenshot=True, filename=\"cc_thickness_GBRtest_scale.png\", transparent_bg =True)"
   ]
  },
  {
   "cell_type": "markdown",
   "id": "a43ffd18",
   "metadata": {
    "pycharm": {
     "name": "#%% md\n"
    }
   },
   "source": [
    "### LASSO"
   ]
  },
  {
   "cell_type": "markdown",
   "id": "95c6b60e",
   "metadata": {
    "pycharm": {
     "name": "#%% md\n"
    }
   },
   "source": []
  },
  {
   "cell_type": "code",
   "execution_count": 24,
   "id": "ff5e1414",
   "metadata": {
    "pycharm": {
     "name": "#%%\n"
    }
   },
   "outputs": [],
   "source": [
    "flot_data_ar = np.array(df_ar[\"Lasso Scale\"])\n",
    "#flot_data_ar = abs(flot_data_ar)\n",
    "\n",
    "df_ct = pd.read_csv(dflist_ct)\n",
    "\n",
    "flot_data_ct = np.array(df_ct[\"Lasso Scale\"])\n",
    "#flot_data_ct = abs(flot_data_ct)\n",
    "#flot_data"
   ]
  },
  {
   "cell_type": "code",
   "execution_count": 25,
   "id": "42a471bb",
   "metadata": {
    "pycharm": {
     "name": "#%%\n"
    }
   },
   "outputs": [
    {
     "data": {
      "text/plain": [
       "'C:\\\\Users\\\\AIMS04\\\\Desktop\\\\AIMS LAB\\\\Code\\\\visualization\\\\ixi_thickness_Lasso_scale.png'"
      ]
     },
     "execution_count": 25,
     "metadata": {},
     "output_type": "execute_result"
    }
   ],
   "source": [
    "from enigmatoolbox.utils.parcellation import parcel_to_surface\n",
    "from enigmatoolbox.plotting import plot_cortical\n",
    "\n",
    "\n",
    "# Map parcellated data to the surface\n",
    "area = parcel_to_surface(flot_data_ar, 'aparc_fsa5')\n",
    "thickness = parcel_to_surface(flot_data_ct, 'aparc_fsa5')\n",
    "\n",
    "# Project the results on the surface brain\n",
    "plot_cortical(array_name=area, surface_name=\"fsa5\", size=(800, 250),\n",
    "              cmap='Reds', color_bar= False, color_range=(0, 1), share=\"both\",zoom =1.2,scale=2,\n",
    "              screenshot=True, filename=\"ixi_area_Lasso_scale.png\", transparent_bg =True)\n",
    "\n",
    "plot_cortical(array_name=thickness, surface_name=\"fsa5\", size=(800, 250),\n",
    "              cmap='Blues', color_bar= False, color_range=(0, 1), share=\"both\",zoom =1.2,scale=2,\n",
    "              screenshot=True, filename=\"ixi_thickness_Lasso_scale.png\", transparent_bg =True)"
   ]
  },
  {
   "cell_type": "markdown",
   "id": "526f9c09",
   "metadata": {
    "pycharm": {
     "name": "#%% md\n"
    }
   },
   "source": [
    "### GPR"
   ]
  },
  {
   "cell_type": "code",
   "execution_count": 40,
   "id": "a217d970",
   "metadata": {
    "pycharm": {
     "name": "#%%\n"
    }
   },
   "outputs": [],
   "source": [
    "flot_data_ar = np.array(df_ar[\"Gaussian Process Scale\"])\n",
    "#flot_data_ar = abs(flot_data_ar)\n",
    "\n",
    "df_ct = pd.read_csv(dflist_ct)\n",
    "\n",
    "flot_data_ct = np.array(df_ct[\"Gaussian Process Scale\"])\n",
    "#flot_data_ct = abs(flot_data_ct)\n",
    "#flot_data"
   ]
  },
  {
   "cell_type": "code",
   "execution_count": 5,
   "id": "57f0b995",
   "metadata": {
    "pycharm": {
     "name": "#%%\n"
    }
   },
   "outputs": [
    {
     "data": {
      "text/plain": [
       "'C:\\\\Users\\\\AIMS04\\\\Desktop\\\\AIMS LAB\\\\Code\\\\visualization\\\\ixi_thickness_testgp_scale.png'"
      ]
     },
     "execution_count": 5,
     "metadata": {},
     "output_type": "execute_result"
    }
   ],
   "source": [
    "from enigmatoolbox.utils.parcellation import parcel_to_surface\n",
    "from enigmatoolbox.plotting import plot_cortical\n",
    "\n",
    "\n",
    "# Map parcellated data to the surface\n",
    "area = parcel_to_surface(flot_data_ar, 'aparc_fsa5')\n",
    "thickness = parcel_to_surface(flot_data_ct, 'aparc_fsa5')\n",
    "\n",
    "# Project the results on the surface brain\n",
    "plot_cortical(array_name=area, surface_name=\"fsa5\", size=(800, 250),\n",
    "              cmap='Reds', color_bar= False, color_range=(0, 1), share=\"both\",zoom =1.2,scale=2,\n",
    "              screenshot=True, filename=\"ixi_area_GP_scale.png\", transparent_bg =True)\n",
    "\n",
    "plot_cortical(array_name=thickness, surface_name=\"fsa5\", size=(800, 250),\n",
    "              cmap='Blues', color_bar= False, color_range=(0, 1), share=\"both\",zoom =1.2,scale=2,\n",
    "              screenshot=True, filename=\"ixi_thickness_GP_scale.png\", transparent_bg =True)"
   ]
  },
  {
   "cell_type": "markdown",
   "id": "e969589e",
   "metadata": {
    "pycharm": {
     "name": "#%% md\n"
    }
   },
   "source": [
    "## subcortical volume"
   ]
  },
  {
   "cell_type": "code",
   "execution_count": 84,
   "id": "1230a69f",
   "metadata": {
    "pycharm": {
     "name": "#%%\n"
    }
   },
   "outputs": [],
   "source": [
    "from enigmatoolbox.datasets import load_example_data\n",
    "\n",
    "# Load all example data from an individual site\n",
    "cov, metr1_SubVol, metr2_CortThick, metr3_CortSurf = load_example_data()"
   ]
  },
  {
   "cell_type": "code",
   "execution_count": 85,
   "id": "ca4fda05",
   "metadata": {
    "pycharm": {
     "name": "#%%\n"
    }
   },
   "outputs": [],
   "source": [
    "from enigmatoolbox.datasets import load_summary_stats\n",
    "\n",
    "# Load summary statistics for ENIGMA-Epilepsy\n",
    "sum_stats = load_summary_stats('epilepsy')\n",
    "\n",
    "# Get case-control subcortical volume and cortical thickness tables\n",
    "SV = sum_stats['SubVol_case_vs_controls_ltle']\n",
    "CT = sum_stats['CortThick_case_vs_controls_ltle']\n",
    "\n",
    "# Extract Cohen's d values\n",
    "SV_d = SV['d_icv']\n",
    "CT_d = CT['d_icv']"
   ]
  },
  {
   "cell_type": "markdown",
   "id": "28946a00",
   "metadata": {
    "pycharm": {
     "name": "#%% md\n"
    }
   },
   "source": [
    "### GBR"
   ]
  },
  {
   "cell_type": "code",
   "execution_count": 86,
   "id": "a9b1cc6e",
   "metadata": {
    "pycharm": {
     "name": "#%%\n"
    }
   },
   "outputs": [
    {
     "name": "stdout",
     "output_type": "stream",
     "text": [
      "  Unnamed: 0         Unnamed: 1  Gradient Boosting Regressor     Lasso  \\\n",
      "0    Laccumb  lh_accumbens_area                     0.481662  0.492026   \n",
      "1      Lamyg        lh_amygdala                     0.034788  0.480630   \n",
      "2      Lcaud         lh_caudate                     0.170011  0.269135   \n",
      "3     Lhippo     lh_hippocampus                     0.105458  0.801826   \n",
      "4       Lpal        lh_pallidum                     0.109766  0.500139   \n",
      "\n",
      "   Gaussian Process  Gradient Boosting Regressor Scale  Lasso Scale  \\\n",
      "0          0.258993                           0.393720     0.193963   \n",
      "1          1.126055                           0.000000     0.189141   \n",
      "2          0.659741                           0.119139     0.099652   \n",
      "3          2.195903                           0.062264     0.325048   \n",
      "4          0.731453                           0.066059     0.197396   \n",
      "\n",
      "   Gaussian Process Scale  \n",
      "0                0.060355  \n",
      "1                0.403096  \n",
      "2                0.218767  \n",
      "3                0.825997  \n",
      "4                0.247114  \n"
     ]
    }
   ],
   "source": [
    "dflist_sv = \"./shap_value/visual/ixi_feature_importance_sv.csv\"\n",
    "\n",
    "df_sv = pd.read_csv(dflist_sv)\n",
    "print(df_sv.head())\n",
    "flot_data_sv = np.array(df_sv[\"Gradient Boosting Regressor Scale\"])"
   ]
  },
  {
   "cell_type": "code",
   "execution_count": 87,
   "id": "532057a2",
   "metadata": {
    "pycharm": {
     "name": "#%%\n"
    }
   },
   "outputs": [
    {
     "data": {
      "text/plain": [
       "'C:\\\\Users\\\\AIMS04\\\\Desktop\\\\AIMS LAB\\\\Code\\\\visualization\\\\ixi_SV_GBR_scale.png'"
      ]
     },
     "execution_count": 87,
     "metadata": {},
     "output_type": "execute_result"
    }
   ],
   "source": [
    "from enigmatoolbox.plotting import plot_subcortical\n",
    "\n",
    "# Project the results on the surface brain\n",
    "plot_subcortical(array_name=flot_data_sv, size=(800, 250),\n",
    "                 cmap='Greens', color_bar=\"bottom\", color_range=(0, 1), share=\"both\",zoom =1.2,scale=2,\n",
    "              screenshot=True, filename=\"ixi_SV_GBR_scale.png\", transparent_bg =True)"
   ]
  },
  {
   "cell_type": "markdown",
   "id": "d4751898",
   "metadata": {
    "pycharm": {
     "name": "#%% md\n"
    }
   },
   "source": [
    "### Lasso"
   ]
  },
  {
   "cell_type": "code",
   "execution_count": 88,
   "id": "1ca65d0e",
   "metadata": {
    "pycharm": {
     "name": "#%%\n"
    }
   },
   "outputs": [
    {
     "data": {
      "text/plain": [
       "'C:\\\\Users\\\\AIMS04\\\\Desktop\\\\AIMS LAB\\\\Code\\\\visualization\\\\ixi_SV_Lasso_scale.png'"
      ]
     },
     "execution_count": 88,
     "metadata": {},
     "output_type": "execute_result"
    }
   ],
   "source": [
    "dflist_sv = \"./shap_value/visual/ixi_feature_importance_sv.csv\"\n",
    "\n",
    "df_sv = pd.read_csv(dflist_sv)\n",
    "df_sv.head()\n",
    "flot_data_sv = np.array(df_sv[\"Lasso Scale\"])\n",
    "\n",
    "from enigmatoolbox.plotting import plot_subcortical\n",
    "\n",
    "# Project the results on the surface brain\n",
    "plot_subcortical(array_name=flot_data_sv, size=(800, 250),\n",
    "                 cmap='Greens', color_bar= False, color_range=(0, 1), share=\"both\",zoom =1.2,scale=2,\n",
    "              screenshot=True, filename=\"ixi_SV_Lasso_scale.png\", transparent_bg =True)"
   ]
  },
  {
   "cell_type": "markdown",
   "id": "553c6591",
   "metadata": {
    "pycharm": {
     "name": "#%% md\n"
    }
   },
   "source": [
    "### GP"
   ]
  },
  {
   "cell_type": "code",
   "execution_count": 89,
   "id": "bf23f35c",
   "metadata": {
    "pycharm": {
     "name": "#%%\n"
    }
   },
   "outputs": [
    {
     "data": {
      "text/plain": [
       "'C:\\\\Users\\\\AIMS04\\\\Desktop\\\\AIMS LAB\\\\Code\\\\visualization\\\\ixi_SV_GP_scale.png'"
      ]
     },
     "execution_count": 89,
     "metadata": {},
     "output_type": "execute_result"
    }
   ],
   "source": [
    "dflist_sv = \"./shap_value/visual/ixi_feature_importance_sv.csv\"\n",
    "\n",
    "df_sv = pd.read_csv(dflist_sv)\n",
    "df_sv.head()\n",
    "flot_data_sv = np.array(df_sv[\"Gaussian Process Scale\"])\n",
    "\n",
    "from enigmatoolbox.plotting import plot_subcortical\n",
    "\n",
    "# Project the results on the surface brain\n",
    "plot_subcortical(array_name=flot_data_sv, size=(800, 250),\n",
    "                 cmap='Greens', color_bar= False, color_range=(0, 1), share=\"both\",zoom =1.2,scale=2,\n",
    "              screenshot=True, filename=\"ixi_SV_GP_scale.png\", transparent_bg =True)"
   ]
  },
  {
   "cell_type": "markdown",
   "id": "1ffce3f3",
   "metadata": {
    "pycharm": {
     "name": "#%% md\n"
    }
   },
   "source": [
    "## DK atlas"
   ]
  },
  {
   "cell_type": "code",
   "execution_count": 4,
   "id": "b3a9ea95",
   "metadata": {
    "pycharm": {
     "name": "#%%\n"
    }
   },
   "outputs": [],
   "source": [
    "from enigmatoolbox.datasets import load_example_data\n",
    "\n",
    "# Load all example data from an individual site\n",
    "cov, metr1_SubVol, metr2_CortThick, metr3_CortSurf = load_example_data()"
   ]
  },
  {
   "cell_type": "code",
   "execution_count": 5,
   "id": "ea3411e4",
   "metadata": {
    "pycharm": {
     "name": "#%%\n"
    }
   },
   "outputs": [],
   "source": [
    "from enigmatoolbox.datasets import load_summary_stats\n",
    "\n",
    "# Load summary statistics for ENIGMA-22q\n",
    "sum_stats = load_summary_stats('22q')\n",
    "\n",
    "# Get case-control cortical thickness and surface area tables\n",
    "CT = sum_stats['CortThick_case_vs_controls']\n",
    "SA = sum_stats['CortSurf_case_vs_controls']\n",
    "\n",
    "# Extract Cohen's d values\n",
    "CT_d = CT['d_icv']\n",
    "SA_d = SA['d_icv']"
   ]
  },
  {
   "cell_type": "code",
   "execution_count": 6,
   "id": "999f4579",
   "metadata": {
    "pycharm": {
     "name": "#%%\n"
    }
   },
   "outputs": [],
   "source": [
    "from enigmatoolbox.utils.useful import reorder_sctx\n",
    "\n",
    "# Re-order the subcortical data alphabetically and by hemisphere\n",
    "metr1_SubVol_r = reorder_sctx(metr1_SubVol)"
   ]
  },
  {
   "cell_type": "code",
   "execution_count": 7,
   "id": "6f98bfde",
   "metadata": {
    "pycharm": {
     "name": "#%%\n"
    }
   },
   "outputs": [],
   "source": [
    "import numpy as np\n",
    "from enigmatoolbox.plotting import plot_cortical\n",
    "from enigmatoolbox.utils.parcellation import parcel_to_surface\n",
    "\n",
    "# Extract FDR-corrected p-values and find regions with p < 0.01\n",
    "region_idx = np.where(CT['fdr_p'].to_numpy() <= 0.01)\n",
    "\n",
    "# Visualize thresholded Cohen's d map\n",
    "CT_d_thr = np.arange(68)\n",
    "np.random.shuffle(CT_d_thr)\n",
    "plot_cortical(array_name=parcel_to_surface(CT_d_thr, 'aparc_fsa5'), surface_name=\"fsa5\", size=(800, 250),\n",
    "              cmap='gist_rainbow', color_bar=False, color_range=(0,67),\n",
    "             share=\"both\",zoom =1.2,scale=2, transparent_bg =True) #, screenshot=True, filename=\"DK_atlastest.png\"\n",
    "# hsv nipy_spectral jet"
   ]
  },
  {
   "cell_type": "code",
   "execution_count": null,
   "id": "c69d1c5f",
   "metadata": {
    "pycharm": {
     "name": "#%%\n"
    }
   },
   "outputs": [],
   "source": [
    "CT_d_thr = np.arange(0,68,1)"
   ]
  },
  {
   "cell_type": "code",
   "execution_count": null,
   "id": "1fbefd2e",
   "metadata": {
    "pycharm": {
     "name": "#%%\n"
    }
   },
   "outputs": [],
   "source": [
    "CT_d_thr = np.arange(68)\n",
    "print(CT_d_thr)\n",
    "\n",
    "np.random.shuffle(CT_d_thr)\n",
    "print(CT_d_thr)"
   ]
  },
  {
   "cell_type": "code",
   "execution_count": null,
   "id": "f2e2f2e8",
   "metadata": {
    "pycharm": {
     "name": "#%%\n"
    }
   },
   "outputs": [],
   "source": [
    "from enigmatoolbox.datasets import load_example_data\n",
    "\n",
    "# Load all example data from an individual site\n",
    "cov, metr1_SubVol, metr2_CortThick, metr3_CortSurf = load_example_data()\n",
    "\n",
    "from enigmatoolbox.datasets import load_summary_stats\n",
    "\n",
    "# Load summary statistics for ENIGMA-Epilepsy\n",
    "sum_stats = load_summary_stats('epilepsy')\n",
    "\n",
    "# Get case-control subcortical volume and cortical thickness tables\n",
    "SV = sum_stats['SubVol_case_vs_controls_ltle']\n",
    "CT = sum_stats['CortThick_case_vs_controls_ltle']\n",
    "\n",
    "# Extract Cohen's d values\n",
    "SV_d = SV['d_icv']\n",
    "CT_d = CT['d_icv']\n",
    "\n",
    "sv_vis = np.arange(16)\n",
    "np.random.shuffle(sv_vis)"
   ]
  },
  {
   "cell_type": "code",
   "execution_count": null,
   "id": "f4ca52c5",
   "metadata": {
    "pycharm": {
     "name": "#%%\n"
    }
   },
   "outputs": [],
   "source": [
    "from enigmatoolbox.plotting import plot_subcortical\n",
    "\n",
    "# Project the results on the surface brain\n",
    "\n",
    "plot_subcortical(array_name= sv_vis, size=(800, 250),\n",
    "                 cmap='gist_rainbow', color_bar=False, color_range=(0,16),\n",
    "                share=\"both\",zoom =1.2,scale=2, screenshot=True, filename=\"DK_SV.png\", transparent_bg =True)"
   ]
  },
  {
   "cell_type": "code",
   "execution_count": null,
   "id": "f4ca3344",
   "metadata": {
    "pycharm": {
     "name": "#%%\n"
    }
   },
   "outputs": [],
   "source": [
    "len(SV_d)"
   ]
  },
  {
   "cell_type": "code",
   "execution_count": 2,
   "id": "355cffef",
   "metadata": {
    "pycharm": {
     "name": "#%%\n"
    }
   },
   "outputs": [
    {
     "name": "stderr",
     "output_type": "stream",
     "text": [
      "C:\\Users\\AIMS04\\AppData\\Local\\Temp/ipykernel_19352/3056411788.py:4: FutureWarning: The error_bad_lines argument has been deprecated and will be removed in a future version.\n",
      "\n",
      "\n",
      "  sum_stats = load_summary_stats('22q')\n"
     ]
    }
   ],
   "source": [
    "from enigmatoolbox.datasets import load_summary_stats\n",
    "\n",
    "# Load summary statistics for ENIGMA-22q\n",
    "sum_stats = load_summary_stats('22q')\n",
    "\n",
    "# Get case-control cortical thickness and surface area tables\n",
    "CT = sum_stats['CortThick_case_vs_controls']\n",
    "SA = sum_stats['CortSurf_case_vs_controls']\n",
    "\n",
    "# Extract Cohen's d values\n",
    "CT_d = CT['d_icv']\n",
    "SA_d = SA['d_icv']"
   ]
  },
  {
   "cell_type": "code",
   "execution_count": 3,
   "id": "5219bbe3",
   "metadata": {
    "pycharm": {
     "name": "#%%\n"
    }
   },
   "outputs": [
    {
     "ename": "NameError",
     "evalue": "name 'metr1_SubVol' is not defined",
     "output_type": "error",
     "traceback": [
      "\u001b[1;31m---------------------------------------------------------------------------\u001b[0m",
      "\u001b[1;31mNameError\u001b[0m                                 Traceback (most recent call last)",
      "\u001b[1;32m~\\AppData\\Local\\Temp/ipykernel_6596/1739758001.py\u001b[0m in \u001b[0;36m<module>\u001b[1;34m\u001b[0m\n\u001b[0;32m      2\u001b[0m \u001b[1;32mfrom\u001b[0m \u001b[0menigmatoolbox\u001b[0m\u001b[1;33m.\u001b[0m\u001b[0mplotting\u001b[0m \u001b[1;32mimport\u001b[0m \u001b[0mplot_cortical\u001b[0m\u001b[1;33m\u001b[0m\u001b[1;33m\u001b[0m\u001b[0m\n\u001b[0;32m      3\u001b[0m \u001b[1;31m# Re-order the subcortical data alphabetically and by hemisphere\u001b[0m\u001b[1;33m\u001b[0m\u001b[1;33m\u001b[0m\u001b[0m\n\u001b[1;32m----> 4\u001b[1;33m \u001b[0mmetr1_SubVol_r\u001b[0m \u001b[1;33m=\u001b[0m \u001b[0mreorder_sctx\u001b[0m\u001b[1;33m(\u001b[0m\u001b[0mmetr1_SubVol\u001b[0m\u001b[1;33m)\u001b[0m\u001b[1;33m\u001b[0m\u001b[1;33m\u001b[0m\u001b[0m\n\u001b[0m",
      "\u001b[1;31mNameError\u001b[0m: name 'metr1_SubVol' is not defined"
     ]
    }
   ],
   "source": [
    "from enigmatoolbox.utils.useful import reorder_sctx\n",
    "\n",
    "# Re-order the subcortical data alphabetically and by hemisphere\n",
    "metr1_SubVol_r = reorder_sctx(metr1_SubVol)"
   ]
  },
  {
   "cell_type": "code",
   "execution_count": null,
   "id": "b4ffa0aa",
   "metadata": {
    "pycharm": {
     "name": "#%%\n"
    }
   },
   "outputs": [],
   "source": [
    "import numpy as np\n",
    "from enigmatoolbox.plotting import plot_cortical\n",
    "from enigmatoolbox.utils.parcellation import parcel_to_surface\n",
    "\n",
    "# Extract FDR-corrected p-values and find regions with p < 0.01\n",
    "region_idx = np.where(CT['fdr_p'].to_numpy() <= 0.01)\n",
    "\n",
    "# Visualize thresholded Cohen's d map\n",
    "CT_d_thr = np.arange(68)\n",
    "np.random.shuffle(CT_d_thr)\n",
    "plot_cortical(array_name=parcel_to_surface(CT_d_thr, 'aparc_fsa5'), surface_name=\"fsa5\", size=(800, 250),\n",
    "              cmap='gist_rainbow', color_bar=False, color_range=(0,67),\n",
    "             share=\"both\",zoom =1.2,scale=2, screenshot=True, filename=\"DK_atlas.png\", transparent_bg =True)\n",
    "# hsv nipy_spectral jet"
   ]
  },
  {
   "cell_type": "code",
   "execution_count": 2,
   "id": "263d7d90",
   "metadata": {
    "pycharm": {
     "name": "#%%\n"
    }
   },
   "outputs": [
    {
     "ename": "NameError",
     "evalue": "name 'plot_cortical' is not defined",
     "output_type": "error",
     "traceback": [
      "\u001b[1;31m---------------------------------------------------------------------------\u001b[0m",
      "\u001b[1;31mNameError\u001b[0m                                 Traceback (most recent call last)",
      "\u001b[1;32m~\\AppData\\Local\\Temp/ipykernel_6596/3582166078.py\u001b[0m in \u001b[0;36m<module>\u001b[1;34m\u001b[0m\n\u001b[1;32m----> 1\u001b[1;33m plot_cortical(array_name=parcel_to_surface(CT_d_thr, 'aparc_fsa5'), surface_name=\"fsa5\", size=(800, 250),\n\u001b[0m\u001b[0;32m      2\u001b[0m               \u001b[0mcmap\u001b[0m\u001b[1;33m=\u001b[0m\u001b[1;34m'gist_rainbow'\u001b[0m\u001b[1;33m,\u001b[0m \u001b[0mcolor_bar\u001b[0m\u001b[1;33m=\u001b[0m\u001b[1;32mFalse\u001b[0m\u001b[1;33m,\u001b[0m \u001b[0mcolor_range\u001b[0m\u001b[1;33m=\u001b[0m\u001b[1;33m(\u001b[0m\u001b[1;36m0\u001b[0m\u001b[1;33m,\u001b[0m\u001b[1;36m67\u001b[0m\u001b[1;33m)\u001b[0m\u001b[1;33m,\u001b[0m\u001b[1;33m\u001b[0m\u001b[1;33m\u001b[0m\u001b[0m\n\u001b[0;32m      3\u001b[0m               share=\"both\",zoom =1.2,scale=2, transparent_bg =True)\n\u001b[0;32m      4\u001b[0m \u001b[1;31m# hsv nipy_spectral jet\u001b[0m\u001b[1;33m\u001b[0m\u001b[1;33m\u001b[0m\u001b[0m\n",
      "\u001b[1;31mNameError\u001b[0m: name 'plot_cortical' is not defined"
     ]
    }
   ],
   "source": []
  },
  {
   "cell_type": "code",
   "execution_count": 46,
   "id": "f71793b2",
   "metadata": {
    "pycharm": {
     "name": "#%%\n"
    }
   },
   "outputs": [],
   "source": [
    "CT_d_thr = np.arange(0,68,1)"
   ]
  },
  {
   "cell_type": "code",
   "execution_count": 58,
   "id": "870afc3f",
   "metadata": {
    "pycharm": {
     "name": "#%%\n"
    }
   },
   "outputs": [
    {
     "name": "stdout",
     "output_type": "stream",
     "text": [
      "[ 0  1  2  3  4  5  6  7  8  9 10 11 12 13 14 15 16 17 18 19 20 21 22 23\n",
      " 24 25 26 27 28 29 30 31 32 33 34 35 36 37 38 39 40 41 42 43 44 45 46 47\n",
      " 48 49 50 51 52 53 54 55 56 57 58 59 60 61 62 63 64 65 66 67]\n",
      "[41 45 25 55  3 39 19 27 52 57 23 33 50 54 42 22 65 49  5 67 17 28 38 15\n",
      " 46 43 64 10  2 56 47 62 61 13 31 18 63 44 40 30 11 51 35 48 37  7 16 34\n",
      "  8 59 53 36 12 32 58  6 24  1  9 26  4 66 14 60 29  0 21 20]\n"
     ]
    }
   ],
   "source": [
    "CT_d_thr = np.arange(68)\n",
    "print(CT_d_thr)\n",
    "\n",
    "np.random.shuffle(CT_d_thr)\n",
    "print(CT_d_thr)"
   ]
  },
  {
   "cell_type": "code",
   "execution_count": 9,
   "id": "eeb11d76",
   "metadata": {
    "pycharm": {
     "name": "#%%\n"
    }
   },
   "outputs": [],
   "source": [
    "from enigmatoolbox.datasets import load_example_data\n",
    "\n",
    "# Load all example data from an individual site\n",
    "cov, metr1_SubVol, metr2_CortThick, metr3_CortSurf = load_example_data()\n",
    "\n",
    "from enigmatoolbox.datasets import load_summary_stats\n",
    "\n",
    "# Load summary statistics for ENIGMA-Epilepsy\n",
    "sum_stats = load_summary_stats('epilepsy')\n",
    "\n",
    "# Get case-control subcortical volume and cortical thickness tables\n",
    "SV = sum_stats['SubVol_case_vs_controls_ltle']\n",
    "CT = sum_stats['CortThick_case_vs_controls_ltle']\n",
    "\n",
    "# Extract Cohen's d values\n",
    "SV_d = SV['d_icv']\n",
    "CT_d = CT['d_icv']\n",
    "\n",
    "sv_vis = np.arange(16)\n",
    "np.random.shuffle(sv_vis)"
   ]
  },
  {
   "cell_type": "code",
   "execution_count": 10,
   "id": "dce0e4fd",
   "metadata": {
    "pycharm": {
     "name": "#%%\n"
    }
   },
   "outputs": [
    {
     "data": {
      "text/plain": [
       "'C:\\\\Users\\\\AIMS04\\\\Desktop\\\\AIMS LAB\\\\Code\\\\visualization\\\\DK_SV.png'"
      ]
     },
     "execution_count": 10,
     "metadata": {},
     "output_type": "execute_result"
    }
   ],
   "source": [
    "from enigmatoolbox.plotting import plot_subcortical\n",
    "\n",
    "# Project the results on the surface brain\n",
    "\n",
    "plot_subcortical(array_name= sv_vis, size=(800, 250),\n",
    "                 cmap='gist_rainbow', color_bar=False, color_range=(0,16),\n",
    "                share=\"both\",zoom =1.2,scale=2, screenshot=True, filename=\"DK_SV.png\", transparent_bg =True)\n"
   ]
  },
  {
   "cell_type": "code",
   "execution_count": 76,
   "id": "8953c56a",
   "metadata": {
    "pycharm": {
     "name": "#%%\n"
    }
   },
   "outputs": [
    {
     "data": {
      "text/plain": [
       "16"
      ]
     },
     "execution_count": 76,
     "metadata": {},
     "output_type": "execute_result"
    }
   ],
   "source": [
    "len(SV_d)"
   ]
  },
  {
   "cell_type": "code",
   "execution_count": null,
   "id": "171cdae2",
   "metadata": {
    "pycharm": {
     "name": "#%%\n"
    }
   },
   "outputs": [],
   "source": []
  }
 ],
 "metadata": {
  "kernelspec": {
   "display_name": "Python 3 (ipykernel)",
   "language": "python",
   "name": "python3"
  },
  "language_info": {
   "codemirror_mode": {
    "name": "ipython",
    "version": 3
   },
   "file_extension": ".py",
   "mimetype": "text/x-python",
   "name": "python",
   "nbconvert_exporter": "python",
   "pygments_lexer": "ipython3",
   "version": "3.9.7"
  }
 },
 "nbformat": 4,
 "nbformat_minor": 5
}
