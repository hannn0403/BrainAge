{
 "cells": [
  {
   "cell_type": "code",
   "execution_count": 1,
   "id": "2f077d51",
   "metadata": {},
   "outputs": [],
   "source": [
    "import pandas as pd \n",
    "\n",
    "ixi_train = pd.read_csv('./IXI_153/ixi_train.csv', index_col = 0)\n",
    "ixi_test = pd.read_csv('./IXI_153/ixi_test.csv', index_col = 0)\n",
    "\n",
    "cc_train = pd.read_csv('./CAMCAN_153/cc_train.csv', index_col = 0)\n",
    "cc_test = pd.read_csv('./CAMCAN_153/cc_test.csv', index_col = 0)\n",
    "\n",
    "hcp_train = pd.read_csv('./HCP_153/hcp_train.csv', index_col = 0)\n",
    "hcp_test = pd.read_csv('./HCP_153/hcp_test.csv', index_col = 0)"
   ]
  },
  {
   "cell_type": "code",
   "execution_count": 3,
   "id": "32ed9f59",
   "metadata": {},
   "outputs": [
    {
     "name": "stdout",
     "output_type": "stream",
     "text": [
      "(453, 155)\n"
     ]
    }
   ],
   "source": [
    "print(ixi_train.shape)"
   ]
  },
  {
   "cell_type": "code",
   "execution_count": 5,
   "id": "09465281",
   "metadata": {},
   "outputs": [
    {
     "name": "stdout",
     "output_type": "stream",
     "text": [
      "(500, 155)\n"
     ]
    }
   ],
   "source": [
    "print(cc_train.shape)"
   ]
  },
  {
   "cell_type": "code",
   "execution_count": 6,
   "id": "f29ee350",
   "metadata": {},
   "outputs": [
    {
     "name": "stdout",
     "output_type": "stream",
     "text": [
      "(890, 155)\n"
     ]
    }
   ],
   "source": [
    "print(hcp_train.shape)"
   ]
  },
  {
   "cell_type": "code",
   "execution_count": 7,
   "id": "bd8c0c0e",
   "metadata": {
    "scrolled": true
   },
   "outputs": [
    {
     "name": "stdout",
     "output_type": "stream",
     "text": [
      "lh_bankssts_thickness\n",
      "lh_caudalanteriorcingulate_thickness\n",
      "lh_caudalmiddlefrontal_thickness\n",
      "lh_cuneus_thickness\n",
      "lh_entorhinal_thickness\n",
      "lh_fusiform_thickness\n",
      "lh_inferiorparietal_thickness\n",
      "lh_inferiortemporal_thickness\n",
      "lh_isthmuscingulate_thickness\n",
      "lh_lateraloccipital_thickness\n",
      "lh_lateralorbitofrontal_thickness\n",
      "lh_lingual_thickness\n",
      "lh_medialorbitofrontal_thickness\n",
      "lh_middletemporal_thickness\n",
      "lh_parahippocampal_thickness\n",
      "lh_paracentral_thickness\n",
      "lh_parsopercularis_thickness\n",
      "lh_parsorbitalis_thickness\n",
      "lh_parstriangularis_thickness\n",
      "lh_pericalcarine_thickness\n",
      "lh_postcentral_thickness\n",
      "lh_posteriorcingulate_thickness\n",
      "lh_precentral_thickness\n",
      "lh_precuneus_thickness\n",
      "lh_rostralanteriorcingulate_thickness\n",
      "lh_rostralmiddlefrontal_thickness\n",
      "lh_superiorfrontal_thickness\n",
      "lh_superiorparietal_thickness\n",
      "lh_superiortemporal_thickness\n",
      "lh_supramarginal_thickness\n",
      "lh_frontalpole_thickness\n",
      "lh_temporalpole_thickness\n",
      "lh_transversetemporal_thickness\n",
      "lh_insula_thickness\n",
      "rh_bankssts_thickness\n",
      "rh_caudalanteriorcingulate_thickness\n",
      "rh_caudalmiddlefrontal_thickness\n",
      "rh_cuneus_thickness\n",
      "rh_entorhinal_thickness\n",
      "rh_fusiform_thickness\n",
      "rh_inferiorparietal_thickness\n",
      "rh_inferiortemporal_thickness\n",
      "rh_isthmuscingulate_thickness\n",
      "rh_lateraloccipital_thickness\n",
      "rh_lateralorbitofrontal_thickness\n",
      "rh_lingual_thickness\n",
      "rh_medialorbitofrontal_thickness\n",
      "rh_middletemporal_thickness\n",
      "rh_parahippocampal_thickness\n",
      "rh_paracentral_thickness\n",
      "rh_parsopercularis_thickness\n",
      "rh_parsorbitalis_thickness\n",
      "rh_parstriangularis_thickness\n",
      "rh_pericalcarine_thickness\n",
      "rh_postcentral_thickness\n",
      "rh_posteriorcingulate_thickness\n",
      "rh_precentral_thickness\n",
      "rh_precuneus_thickness\n",
      "rh_rostralanteriorcingulate_thickness\n",
      "rh_rostralmiddlefrontal_thickness\n",
      "rh_superiorfrontal_thickness\n",
      "rh_superiorparietal_thickness\n",
      "rh_superiortemporal_thickness\n",
      "rh_supramarginal_thickness\n",
      "rh_frontalpole_thickness\n",
      "rh_temporalpole_thickness\n",
      "rh_transversetemporal_thickness\n",
      "rh_insula_thickness\n",
      "lh_bankssts_area\n",
      "lh_caudalanteriorcingulate_area\n",
      "lh_caudalmiddlefrontal_area\n",
      "lh_cuneus_area\n",
      "lh_entorhinal_area\n",
      "lh_fusiform_area\n",
      "lh_inferiorparietal_area\n",
      "lh_inferiortemporal_area\n",
      "lh_isthmuscingulate_area\n",
      "lh_lateraloccipital_area\n",
      "lh_lateralorbitofrontal_area\n",
      "lh_lingual_area\n",
      "lh_medialorbitofrontal_area\n",
      "lh_middletemporal_area\n",
      "lh_parahippocampal_area\n",
      "lh_paracentral_area\n",
      "lh_parsopercularis_area\n",
      "lh_parsorbitalis_area\n",
      "lh_parstriangularis_area\n",
      "lh_pericalcarine_area\n",
      "lh_postcentral_area\n",
      "lh_posteriorcingulate_area\n",
      "lh_precentral_area\n",
      "lh_precuneus_area\n",
      "lh_rostralanteriorcingulate_area\n",
      "lh_rostralmiddlefrontal_area\n",
      "lh_superiorfrontal_area\n",
      "lh_superiorparietal_area\n",
      "lh_superiortemporal_area\n",
      "lh_supramarginal_area\n",
      "lh_frontalpole_area\n",
      "lh_temporalpole_area\n",
      "lh_transversetemporal_area\n",
      "lh_insula_area\n",
      "rh_bankssts_area\n",
      "rh_caudalanteriorcingulate_area\n",
      "rh_caudalmiddlefrontal_area\n",
      "rh_cuneus_area\n",
      "rh_entorhinal_area\n",
      "rh_fusiform_area\n",
      "rh_inferiorparietal_area\n",
      "rh_inferiortemporal_area\n",
      "rh_isthmuscingulate_area\n",
      "rh_lateraloccipital_area\n",
      "rh_lateralorbitofrontal_area\n",
      "rh_lingual_area\n",
      "rh_medialorbitofrontal_area\n",
      "rh_middletemporal_area\n",
      "rh_parahippocampal_area\n",
      "rh_paracentral_area\n",
      "rh_parsopercularis_area\n",
      "rh_parsorbitalis_area\n",
      "rh_parstriangularis_area\n",
      "rh_pericalcarine_area\n",
      "rh_postcentral_area\n",
      "rh_posteriorcingulate_area\n",
      "rh_precentral_area\n",
      "rh_precuneus_area\n",
      "rh_rostralanteriorcingulate_area\n",
      "rh_rostralmiddlefrontal_area\n",
      "rh_superiorfrontal_area\n",
      "rh_superiorparietal_area\n",
      "rh_superiortemporal_area\n",
      "rh_supramarginal_area\n",
      "rh_frontalpole_area\n",
      "rh_temporalpole_area\n",
      "rh_transversetemporal_area\n",
      "rh_insula_area\n",
      "eTIV\n",
      "Left-Lateral-Ventricle\n",
      "Left-Thalamus\n",
      "Left-Caudate\n",
      "Left-Putamen\n",
      "Left-Pallidum\n",
      "Left-Hippocampus\n",
      "Left-Amygdala\n",
      "Left-Accumbens-area\n",
      "Right-Lateral-Ventricle\n",
      "Right-Thalamus\n",
      "Right-Caudate\n",
      "Right-Putamen\n",
      "Right-Pallidum\n",
      "Right-Hippocampus\n",
      "Right-Amygdala\n",
      "Right-Accumbens-area\n",
      "SEX\n",
      "AGE\n"
     ]
    }
   ],
   "source": [
    "for i in ixi_train.columns:\n",
    "    print(i)"
   ]
  },
  {
   "cell_type": "code",
   "execution_count": 8,
   "id": "92851120",
   "metadata": {},
   "outputs": [],
   "source": [
    "right = []\n",
    "left = []\n",
    "etc = []\n",
    "\n",
    "for i in ixi_train.columns:\n",
    "    if (i[:4] == 'Left') or (i[:2] == 'lh'):\n",
    "        left.append(i)\n",
    "    elif (i[:5] == 'Right') or (i[:2] == 'rh'):\n",
    "        right.append(i)\n",
    "    else:\n",
    "        etc.append(i)"
   ]
  },
  {
   "cell_type": "code",
   "execution_count": 9,
   "id": "1de7b829",
   "metadata": {},
   "outputs": [
    {
     "data": {
      "text/plain": [
       "76"
      ]
     },
     "execution_count": 9,
     "metadata": {},
     "output_type": "execute_result"
    }
   ],
   "source": [
    "len(right)"
   ]
  },
  {
   "cell_type": "code",
   "execution_count": 10,
   "id": "69117bb2",
   "metadata": {},
   "outputs": [
    {
     "data": {
      "text/plain": [
       "76"
      ]
     },
     "execution_count": 10,
     "metadata": {},
     "output_type": "execute_result"
    }
   ],
   "source": [
    "len(left)"
   ]
  },
  {
   "cell_type": "code",
   "execution_count": 11,
   "id": "1f23981d",
   "metadata": {},
   "outputs": [
    {
     "data": {
      "text/plain": [
       "3"
      ]
     },
     "execution_count": 11,
     "metadata": {},
     "output_type": "execute_result"
    }
   ],
   "source": [
    "len(etc)"
   ]
  },
  {
   "cell_type": "code",
   "execution_count": 12,
   "id": "3c7c87d0",
   "metadata": {},
   "outputs": [
    {
     "data": {
      "text/plain": [
       "['eTIV', 'SEX', 'AGE']"
      ]
     },
     "execution_count": 12,
     "metadata": {},
     "output_type": "execute_result"
    }
   ],
   "source": [
    "etc"
   ]
  },
  {
   "cell_type": "code",
   "execution_count": 14,
   "id": "dc052f4a",
   "metadata": {},
   "outputs": [],
   "source": [
    "area = []\n",
    "thickness = []\n",
    "etc_col = []\n",
    "\n",
    "for i in ixi_train.columns:\n",
    "    if i[-4:] == 'area':\n",
    "        area.append(i)\n",
    "    elif i[-9:] == 'thickness':\n",
    "        thickness.append(i)\n",
    "    else :\n",
    "        etc_col.append(i)"
   ]
  },
  {
   "cell_type": "code",
   "execution_count": 15,
   "id": "9e81c8aa",
   "metadata": {},
   "outputs": [
    {
     "data": {
      "text/plain": [
       "70"
      ]
     },
     "execution_count": 15,
     "metadata": {},
     "output_type": "execute_result"
    }
   ],
   "source": [
    "len(area)"
   ]
  },
  {
   "cell_type": "code",
   "execution_count": 16,
   "id": "9418200f",
   "metadata": {},
   "outputs": [
    {
     "data": {
      "text/plain": [
       "68"
      ]
     },
     "execution_count": 16,
     "metadata": {},
     "output_type": "execute_result"
    }
   ],
   "source": [
    "len(thickness)"
   ]
  },
  {
   "cell_type": "code",
   "execution_count": 17,
   "id": "0a776d02",
   "metadata": {},
   "outputs": [
    {
     "data": {
      "text/plain": [
       "['eTIV',\n",
       " 'Left-Lateral-Ventricle',\n",
       " 'Left-Thalamus',\n",
       " 'Left-Caudate',\n",
       " 'Left-Putamen',\n",
       " 'Left-Pallidum',\n",
       " 'Left-Hippocampus',\n",
       " 'Left-Amygdala',\n",
       " 'Right-Lateral-Ventricle',\n",
       " 'Right-Thalamus',\n",
       " 'Right-Caudate',\n",
       " 'Right-Putamen',\n",
       " 'Right-Pallidum',\n",
       " 'Right-Hippocampus',\n",
       " 'Right-Amygdala',\n",
       " 'SEX',\n",
       " 'AGE']"
      ]
     },
     "execution_count": 17,
     "metadata": {},
     "output_type": "execute_result"
    }
   ],
   "source": [
    "etc_col"
   ]
  },
  {
   "cell_type": "code",
   "execution_count": 18,
   "id": "9cf84302",
   "metadata": {
    "scrolled": true
   },
   "outputs": [
    {
     "data": {
      "text/plain": [
       "['lh_bankssts_area',\n",
       " 'lh_caudalanteriorcingulate_area',\n",
       " 'lh_caudalmiddlefrontal_area',\n",
       " 'lh_cuneus_area',\n",
       " 'lh_entorhinal_area',\n",
       " 'lh_fusiform_area',\n",
       " 'lh_inferiorparietal_area',\n",
       " 'lh_inferiortemporal_area',\n",
       " 'lh_isthmuscingulate_area',\n",
       " 'lh_lateraloccipital_area',\n",
       " 'lh_lateralorbitofrontal_area',\n",
       " 'lh_lingual_area',\n",
       " 'lh_medialorbitofrontal_area',\n",
       " 'lh_middletemporal_area',\n",
       " 'lh_parahippocampal_area',\n",
       " 'lh_paracentral_area',\n",
       " 'lh_parsopercularis_area',\n",
       " 'lh_parsorbitalis_area',\n",
       " 'lh_parstriangularis_area',\n",
       " 'lh_pericalcarine_area',\n",
       " 'lh_postcentral_area',\n",
       " 'lh_posteriorcingulate_area',\n",
       " 'lh_precentral_area',\n",
       " 'lh_precuneus_area',\n",
       " 'lh_rostralanteriorcingulate_area',\n",
       " 'lh_rostralmiddlefrontal_area',\n",
       " 'lh_superiorfrontal_area',\n",
       " 'lh_superiorparietal_area',\n",
       " 'lh_superiortemporal_area',\n",
       " 'lh_supramarginal_area',\n",
       " 'lh_frontalpole_area',\n",
       " 'lh_temporalpole_area',\n",
       " 'lh_transversetemporal_area',\n",
       " 'lh_insula_area',\n",
       " 'rh_bankssts_area',\n",
       " 'rh_caudalanteriorcingulate_area',\n",
       " 'rh_caudalmiddlefrontal_area',\n",
       " 'rh_cuneus_area',\n",
       " 'rh_entorhinal_area',\n",
       " 'rh_fusiform_area',\n",
       " 'rh_inferiorparietal_area',\n",
       " 'rh_inferiortemporal_area',\n",
       " 'rh_isthmuscingulate_area',\n",
       " 'rh_lateraloccipital_area',\n",
       " 'rh_lateralorbitofrontal_area',\n",
       " 'rh_lingual_area',\n",
       " 'rh_medialorbitofrontal_area',\n",
       " 'rh_middletemporal_area',\n",
       " 'rh_parahippocampal_area',\n",
       " 'rh_paracentral_area',\n",
       " 'rh_parsopercularis_area',\n",
       " 'rh_parsorbitalis_area',\n",
       " 'rh_parstriangularis_area',\n",
       " 'rh_pericalcarine_area',\n",
       " 'rh_postcentral_area',\n",
       " 'rh_posteriorcingulate_area',\n",
       " 'rh_precentral_area',\n",
       " 'rh_precuneus_area',\n",
       " 'rh_rostralanteriorcingulate_area',\n",
       " 'rh_rostralmiddlefrontal_area',\n",
       " 'rh_superiorfrontal_area',\n",
       " 'rh_superiorparietal_area',\n",
       " 'rh_superiortemporal_area',\n",
       " 'rh_supramarginal_area',\n",
       " 'rh_frontalpole_area',\n",
       " 'rh_temporalpole_area',\n",
       " 'rh_transversetemporal_area',\n",
       " 'rh_insula_area',\n",
       " 'Left-Accumbens-area',\n",
       " 'Right-Accumbens-area']"
      ]
     },
     "execution_count": 18,
     "metadata": {},
     "output_type": "execute_result"
    }
   ],
   "source": [
    "area"
   ]
  },
  {
   "cell_type": "code",
   "execution_count": 19,
   "id": "d74f4de3",
   "metadata": {},
   "outputs": [
    {
     "data": {
      "text/plain": [
       "['lh_bankssts_thickness',\n",
       " 'lh_caudalanteriorcingulate_thickness',\n",
       " 'lh_caudalmiddlefrontal_thickness',\n",
       " 'lh_cuneus_thickness',\n",
       " 'lh_entorhinal_thickness',\n",
       " 'lh_fusiform_thickness',\n",
       " 'lh_inferiorparietal_thickness',\n",
       " 'lh_inferiortemporal_thickness',\n",
       " 'lh_isthmuscingulate_thickness',\n",
       " 'lh_lateraloccipital_thickness',\n",
       " 'lh_lateralorbitofrontal_thickness',\n",
       " 'lh_lingual_thickness',\n",
       " 'lh_medialorbitofrontal_thickness',\n",
       " 'lh_middletemporal_thickness',\n",
       " 'lh_parahippocampal_thickness',\n",
       " 'lh_paracentral_thickness',\n",
       " 'lh_parsopercularis_thickness',\n",
       " 'lh_parsorbitalis_thickness',\n",
       " 'lh_parstriangularis_thickness',\n",
       " 'lh_pericalcarine_thickness',\n",
       " 'lh_postcentral_thickness',\n",
       " 'lh_posteriorcingulate_thickness',\n",
       " 'lh_precentral_thickness',\n",
       " 'lh_precuneus_thickness',\n",
       " 'lh_rostralanteriorcingulate_thickness',\n",
       " 'lh_rostralmiddlefrontal_thickness',\n",
       " 'lh_superiorfrontal_thickness',\n",
       " 'lh_superiorparietal_thickness',\n",
       " 'lh_superiortemporal_thickness',\n",
       " 'lh_supramarginal_thickness',\n",
       " 'lh_frontalpole_thickness',\n",
       " 'lh_temporalpole_thickness',\n",
       " 'lh_transversetemporal_thickness',\n",
       " 'lh_insula_thickness',\n",
       " 'rh_bankssts_thickness',\n",
       " 'rh_caudalanteriorcingulate_thickness',\n",
       " 'rh_caudalmiddlefrontal_thickness',\n",
       " 'rh_cuneus_thickness',\n",
       " 'rh_entorhinal_thickness',\n",
       " 'rh_fusiform_thickness',\n",
       " 'rh_inferiorparietal_thickness',\n",
       " 'rh_inferiortemporal_thickness',\n",
       " 'rh_isthmuscingulate_thickness',\n",
       " 'rh_lateraloccipital_thickness',\n",
       " 'rh_lateralorbitofrontal_thickness',\n",
       " 'rh_lingual_thickness',\n",
       " 'rh_medialorbitofrontal_thickness',\n",
       " 'rh_middletemporal_thickness',\n",
       " 'rh_parahippocampal_thickness',\n",
       " 'rh_paracentral_thickness',\n",
       " 'rh_parsopercularis_thickness',\n",
       " 'rh_parsorbitalis_thickness',\n",
       " 'rh_parstriangularis_thickness',\n",
       " 'rh_pericalcarine_thickness',\n",
       " 'rh_postcentral_thickness',\n",
       " 'rh_posteriorcingulate_thickness',\n",
       " 'rh_precentral_thickness',\n",
       " 'rh_precuneus_thickness',\n",
       " 'rh_rostralanteriorcingulate_thickness',\n",
       " 'rh_rostralmiddlefrontal_thickness',\n",
       " 'rh_superiorfrontal_thickness',\n",
       " 'rh_superiorparietal_thickness',\n",
       " 'rh_superiortemporal_thickness',\n",
       " 'rh_supramarginal_thickness',\n",
       " 'rh_frontalpole_thickness',\n",
       " 'rh_temporalpole_thickness',\n",
       " 'rh_transversetemporal_thickness',\n",
       " 'rh_insula_thickness']"
      ]
     },
     "execution_count": 19,
     "metadata": {},
     "output_type": "execute_result"
    }
   ],
   "source": [
    "thickness"
   ]
  },
  {
   "cell_type": "code",
   "execution_count": null,
   "id": "2e5c65a2",
   "metadata": {},
   "outputs": [],
   "source": []
  }
 ],
 "metadata": {
  "kernelspec": {
   "display_name": "Python 3 (ipykernel)",
   "language": "python",
   "name": "python3"
  },
  "language_info": {
   "codemirror_mode": {
    "name": "ipython",
    "version": 3
   },
   "file_extension": ".py",
   "mimetype": "text/x-python",
   "name": "python",
   "nbconvert_exporter": "python",
   "pygments_lexer": "ipython3",
   "version": "3.8.12"
  }
 },
 "nbformat": 4,
 "nbformat_minor": 5
}
