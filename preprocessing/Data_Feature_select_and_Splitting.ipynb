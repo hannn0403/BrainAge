{
 "cells": [
  {
   "cell_type": "markdown",
   "id": "99481c66",
   "metadata": {},
   "source": [
    "# CAMCAN Dataset"
   ]
  },
  {
   "cell_type": "code",
   "execution_count": 13,
   "id": "b7c67608",
   "metadata": {},
   "outputs": [
    {
     "name": "stdout",
     "output_type": "stream",
     "text": [
      "cc_train.csv Shape :  (500, 155)\n",
      "cc_test.csv Shape :  (101, 155)\n"
     ]
    }
   ],
   "source": [
    "import pandas as pd \n",
    "import numpy as np \n",
    "import matplotlib.pyplot as plt \n",
    "import seaborn as sns \n",
    "\n",
    "\n",
    "cc_train = pd.read_csv('./CAMCAN_train.csv')\n",
    "cc_test = pd.read_csv('./CAMCAN_test.csv')\n",
    "\n",
    "\n",
    "\n",
    "cc_train = cc_train.iloc[:, :159]\n",
    "cc_test = cc_test.iloc[:, :159]\n",
    "\n",
    "cc_train.drop(['ID', 'hand','cattell', 'ICV'], axis = 1, inplace =True)\n",
    "cc_test.drop(['ID','hand','cattell', 'ICV'], axis = 1, inplace =True)\n",
    "\n",
    "print('cc_train.csv Shape : ', cc_train.shape)\n",
    "print('cc_test.csv Shape : ', cc_test.shape)"
   ]
  },
  {
   "cell_type": "markdown",
   "id": "209d5a34",
   "metadata": {},
   "source": [
    "In this dataset, they include sex, age columns.\n",
    "\n",
    "So, practically we use 153 columns when we use this dataset"
   ]
  },
  {
   "cell_type": "code",
   "execution_count": 15,
   "id": "04c75035",
   "metadata": {},
   "outputs": [],
   "source": [
    "cc_x_train = cc_train.drop('age', axis = 1)\n",
    "cc_y_train = cc_train[['age']]\n",
    "\n",
    "cc_x_test = cc_test.drop('age', axis = 1)\n",
    "cc_y_test = cc_test[['age']]"
   ]
  },
  {
   "cell_type": "code",
   "execution_count": 16,
   "id": "d7635981",
   "metadata": {},
   "outputs": [
    {
     "data": {
      "text/html": [
       "<div>\n",
       "<style scoped>\n",
       "    .dataframe tbody tr th:only-of-type {\n",
       "        vertical-align: middle;\n",
       "    }\n",
       "\n",
       "    .dataframe tbody tr th {\n",
       "        vertical-align: top;\n",
       "    }\n",
       "\n",
       "    .dataframe thead th {\n",
       "        text-align: right;\n",
       "    }\n",
       "</style>\n",
       "<table border=\"1\" class=\"dataframe\">\n",
       "  <thead>\n",
       "    <tr style=\"text-align: right;\">\n",
       "      <th></th>\n",
       "      <th>age</th>\n",
       "    </tr>\n",
       "  </thead>\n",
       "  <tbody>\n",
       "    <tr>\n",
       "      <th>0</th>\n",
       "      <td>25</td>\n",
       "    </tr>\n",
       "    <tr>\n",
       "      <th>1</th>\n",
       "      <td>28</td>\n",
       "    </tr>\n",
       "    <tr>\n",
       "      <th>2</th>\n",
       "      <td>25</td>\n",
       "    </tr>\n",
       "    <tr>\n",
       "      <th>3</th>\n",
       "      <td>23</td>\n",
       "    </tr>\n",
       "    <tr>\n",
       "      <th>4</th>\n",
       "      <td>21</td>\n",
       "    </tr>\n",
       "    <tr>\n",
       "      <th>...</th>\n",
       "      <td>...</td>\n",
       "    </tr>\n",
       "    <tr>\n",
       "      <th>96</th>\n",
       "      <td>79</td>\n",
       "    </tr>\n",
       "    <tr>\n",
       "      <th>97</th>\n",
       "      <td>81</td>\n",
       "    </tr>\n",
       "    <tr>\n",
       "      <th>98</th>\n",
       "      <td>79</td>\n",
       "    </tr>\n",
       "    <tr>\n",
       "      <th>99</th>\n",
       "      <td>79</td>\n",
       "    </tr>\n",
       "    <tr>\n",
       "      <th>100</th>\n",
       "      <td>78</td>\n",
       "    </tr>\n",
       "  </tbody>\n",
       "</table>\n",
       "<p>101 rows × 1 columns</p>\n",
       "</div>"
      ],
      "text/plain": [
       "     age\n",
       "0     25\n",
       "1     28\n",
       "2     25\n",
       "3     23\n",
       "4     21\n",
       "..   ...\n",
       "96    79\n",
       "97    81\n",
       "98    79\n",
       "99    79\n",
       "100   78\n",
       "\n",
       "[101 rows x 1 columns]"
      ]
     },
     "execution_count": 16,
     "metadata": {},
     "output_type": "execute_result"
    }
   ],
   "source": [
    "cc_y_test"
   ]
  },
  {
   "cell_type": "code",
   "execution_count": 17,
   "id": "14928f3e",
   "metadata": {},
   "outputs": [],
   "source": [
    "cc_x_train.to_csv('./CAMCAN_153/cc_x_train.csv')\n",
    "cc_y_train.to_csv('./CAMCAN_153/cc_y_train.csv')\n",
    "\n",
    "cc_x_test.to_csv('./CAMCAN_153/cc_x_test.csv')\n",
    "cc_y_test.to_csv('./CAMCAN_153/cc_y_test.csv')"
   ]
  },
  {
   "cell_type": "code",
   "execution_count": 58,
   "id": "3b925528",
   "metadata": {},
   "outputs": [],
   "source": [
    "cc_train.to_csv('./CAMCAN_153/cc_train.csv')\n",
    "cc_test.to_csv('./CAMCAN_153/cc_test.csv')"
   ]
  },
  {
   "cell_type": "markdown",
   "id": "a5fb0b5c",
   "metadata": {},
   "source": [
    "# HCP Dataset"
   ]
  },
  {
   "cell_type": "code",
   "execution_count": 43,
   "id": "24a0707e",
   "metadata": {
    "scrolled": true
   },
   "outputs": [
    {
     "name": "stdout",
     "output_type": "stream",
     "text": [
      "hcp_152 shape :  (1113, 155)\n",
      "hcp_1200 shape :  (1113, 157)\n"
     ]
    }
   ],
   "source": [
    "hcp_152 = pd.read_csv('./HCP_152features.csv')\n",
    "hcp_1200 = pd.read_csv('./HCP_1200.csv')\n",
    "\n",
    "print('hcp_152 shape : ', hcp_152.shape)\n",
    "print('hcp_1200 shape : ', hcp_1200.shape)"
   ]
  },
  {
   "cell_type": "code",
   "execution_count": 44,
   "id": "ba5a005e",
   "metadata": {},
   "outputs": [
    {
     "name": "stdout",
     "output_type": "stream",
     "text": [
      "Subject\n",
      "Age\n",
      "Sex\n",
      "PMAT24_A_CR\n",
      "FS_BrainSeg_Vol\n",
      "FS_L_LatVent_Vol\n",
      "FS_L_ThalamusProper_Vol\n",
      "FS_L_Caudate_Vol\n",
      "FS_L_Putamen_Vol\n",
      "FS_L_Pallidum_Vol\n",
      "FS_L_Hippo_Vol\n",
      "FS_L_Amygdala_Vol\n",
      "FS_L_AccumbensArea_Vol\n",
      "FS_R_LatVent_Vol\n",
      "FS_R_ThalamusProper_Vol\n",
      "FS_R_Caudate_Vol\n",
      "FS_R_Putamen_Vol\n",
      "FS_R_Pallidum_Vol\n",
      "FS_R_Hippo_Vol\n",
      "FS_R_Amygdala_Vol\n",
      "FS_R_AccumbensArea_Vol\n",
      "FS_L_Bankssts_Thck\n",
      "FS_L_Caudalanteriorcingulate_Thck\n",
      "FS_L_Caudalmiddlefrontal_Thck\n",
      "FS_L_Cuneus_Thck\n",
      "FS_L_Entorhinal_Thck\n",
      "FS_L_Fusiform_Thck\n",
      "FS_L_Inferiorparietal_Thck\n",
      "FS_L_Inferiortemporal_Thck\n",
      "FS_L_Isthmuscingulate_Thck\n",
      "FS_L_Lateraloccipital_Thck\n",
      "FS_L_Lateralorbitofrontal_Thck\n",
      "FS_L_Lingual_Thck\n",
      "FS_L_Medialorbitofrontal_Thck\n",
      "FS_L_Middletemporal_Thck\n",
      "FS_L_Parahippocampal_Thck\n",
      "FS_L_Paracentral_Thck\n",
      "FS_L_Parsopercularis_Thck\n",
      "FS_L_Parsorbitalis_Thck\n",
      "FS_L_Parstriangularis_Thck\n",
      "FS_L_Pericalcarine_Thck\n",
      "FS_L_Postcentral_Thck\n",
      "FS_L_Posteriorcingulate_Thck\n",
      "FS_L_Precentral_Thck\n",
      "FS_L_Precuneus_Thck\n",
      "FS_L_Rostralanteriorcingulate_Thck\n",
      "FS_L_Rostralmiddlefrontal_Thck\n",
      "FS_L_Superiorfrontal_Thck\n",
      "FS_L_Superiorparietal_Thck\n",
      "FS_L_Superiortemporal_Thck\n",
      "FS_L_Supramarginal_Thck\n",
      "FS_L_Frontalpole_Thck\n",
      "FS_L_Temporalpole_Thck\n",
      "FS_L_Transversetemporal_Thck\n",
      "FS_L_Insula_Thck\n",
      "FS_R_Bankssts_Thck\n",
      "FS_R_Caudalanteriorcingulate_Thck\n",
      "FS_R_Caudalmiddlefrontal_Thck\n",
      "FS_R_Cuneus_Thck\n",
      "FS_R_Entorhinal_Thck\n",
      "FS_R_Fusiform_Thck\n",
      "FS_R_Inferiorparietal_Thck\n",
      "FS_R_Inferiortemporal_Thck\n",
      "FS_R_Isthmuscingulate_Thck\n",
      "FS_R_Lateraloccipital_Thck\n",
      "FS_R_Lateralorbitofrontal_Thck\n",
      "FS_R_Lingual_Thck\n",
      "FS_R_Medialorbitofrontal_Thck\n",
      "FS_R_Middletemporal_Thck\n",
      "FS_R_Parahippocampal_Thck\n",
      "FS_R_Paracentral_Thck\n",
      "FS_R_Parsopercularis_Thck\n",
      "FS_R_Parsorbitalis_Thck\n",
      "FS_R_Parstriangularis_Thck\n",
      "FS_R_Pericalcarine_Thck\n",
      "FS_R_Postcentral_Thck\n",
      "FS_R_Posteriorcingulate_Thck\n",
      "FS_R_Precentral_Thck\n",
      "FS_R_Precuneus_Thck\n",
      "FS_R_Rostralanteriorcingulate_Thck\n",
      "FS_R_Rostralmiddlefrontal_Thck\n",
      "FS_R_Superiorfrontal_Thck\n",
      "FS_R_Superiorparietal_Thck\n",
      "FS_R_Superiortemporal_Thck\n",
      "FS_R_Supramarginal_Thck\n",
      "FS_R_Frontalpole_Thck\n",
      "FS_R_Temporalpole_Thck\n",
      "FS_R_Transversetemporal_Thck\n",
      "FS_R_Insula_Thck\n",
      "FS_L_Bankssts_Area\n",
      "FS_L_Caudalanteriorcingulate_Area\n",
      "FS_L_Caudalmiddlefrontal_Area\n",
      "FS_L_Cuneus_Area\n",
      "FS_L_Entorhinal_Area\n",
      "FS_L_Fusiform_Area\n",
      "FS_L_Inferiorparietal_Area\n",
      "FS_L_Inferiortemporal_Area\n",
      "FS_L_Isthmuscingulate_Area\n",
      "FS_L_Lateraloccipital_Area\n",
      "FS_L_Lateralorbitofrontal_Area\n",
      "FS_L_Lingual_Area\n",
      "FS_L_Medialorbitofrontal_Area\n",
      "FS_L_Middletemporal_Area\n",
      "FS_L_Parahippocampal_Area\n",
      "FS_L_Paracentral_Area\n",
      "FS_L_Parsopercularis_Area\n",
      "FS_L_Parsorbitalis_Area\n",
      "FS_L_Parstriangularis_Area\n",
      "FS_L_Pericalcarine_Area\n",
      "FS_L_Postcentral_Area\n",
      "FS_L_Posteriorcingulate_Area\n",
      "FS_L_Precentral_Area\n",
      "FS_L_Precuneus_Area\n",
      "FS_L_Rostralanteriorcingulate_Area\n",
      "FS_L_Rostralmiddlefrontal_Area\n",
      "FS_L_Superiorfrontal_Area\n",
      "FS_L_Superiorparietal_Area\n",
      "FS_L_Superiortemporal_Area\n",
      "FS_L_Supramarginal_Area\n",
      "FS_L_Frontalpole_Area\n",
      "FS_L_Temporalpole_Area\n",
      "FS_L_Transversetemporal_Area\n",
      "FS_L_Insula_Area\n",
      "FS_R_Bankssts_Area\n",
      "FS_R_Caudalanteriorcingulate_Area\n",
      "FS_R_Caudalmiddlefrontal_Area\n",
      "FS_R_Cuneus_Area\n",
      "FS_R_Entorhinal_Area\n",
      "FS_R_Fusiform_Area\n",
      "FS_R_Inferiorparietal_Area\n",
      "FS_R_Inferiortemporal_Area\n",
      "FS_R_Isthmuscingulate_Area\n",
      "FS_R_Lateraloccipital_Area\n",
      "FS_R_Lateralorbitofrontal_Area\n",
      "FS_R_Lingual_Area\n",
      "FS_R_Medialorbitofrontal_Area\n",
      "FS_R_Middletemporal_Area\n",
      "FS_R_Parahippocampal_Area\n",
      "FS_R_Paracentral_Area\n",
      "FS_R_Parsopercularis_Area\n",
      "FS_R_Parsorbitalis_Area\n",
      "FS_R_Parstriangularis_Area\n",
      "FS_R_Pericalcarine_Area\n",
      "FS_R_Postcentral_Area\n",
      "FS_R_Posteriorcingulate_Area\n",
      "FS_R_Precentral_Area\n",
      "FS_R_Precuneus_Area\n",
      "FS_R_Rostralanteriorcingulate_Area\n",
      "FS_R_Rostralmiddlefrontal_Area\n",
      "FS_R_Superiorfrontal_Area\n",
      "FS_R_Superiorparietal_Area\n",
      "FS_R_Superiortemporal_Area\n",
      "FS_R_Supramarginal_Area\n",
      "FS_R_Frontalpole_Area\n",
      "FS_R_Temporalpole_Area\n",
      "FS_R_Transversetemporal_Area\n",
      "FS_R_Insula_Area\n"
     ]
    }
   ],
   "source": [
    "for i in hcp_1200.columns:\n",
    "    print(i)"
   ]
  },
  {
   "cell_type": "code",
   "execution_count": 45,
   "id": "bbeb1dda",
   "metadata": {},
   "outputs": [
    {
     "name": "stdout",
     "output_type": "stream",
     "text": [
      "(1113, 155)\n"
     ]
    }
   ],
   "source": [
    "hcp_1200 = hcp_1200.drop(['Subject','PMAT24_A_CR'], axis = 1)\n",
    "print(hcp_1200.shape)"
   ]
  },
  {
   "cell_type": "markdown",
   "id": "f36f6d65",
   "metadata": {},
   "source": [
    "# HCP Dataset Split"
   ]
  },
  {
   "cell_type": "code",
   "execution_count": 46,
   "id": "92f3ad6c",
   "metadata": {},
   "outputs": [],
   "source": [
    "import numpy as np \n",
    "import pandas as pd \n",
    "import matplotlib.pyplot as plt \n",
    "%matplotlib inline \n",
    "import seaborn as sns \n",
    "from verstack.stratified_continuous_split import scsplit\n",
    "from sklearn.model_selection import train_test_split\n",
    "from sklearn.preprocessing import StandardScaler\n",
    "\n",
    "\n",
    "def df_info_hcp(df): \n",
    "    # Shape\n",
    "    print('shape : ', df.shape)\n",
    "    \n",
    "    # DF가 바뀌면 이부분만 바뀐다.\n",
    "    label = df['Age']\n",
    "    # Minimum Value\n",
    "    print('Min : {:.2f}'.format(np.min(label)))\n",
    "    # Maximum Value\n",
    "    print('Max : {:.2f}'.format( np.max(label)))\n",
    "\n",
    "    print('Range : {:.2f} ~ {:.2f}'.format( np.min(label), np.max(label)))\n",
    "    \n",
    "    print('Median : {:.2f}'.format(np.median(label)))\n",
    "    print('Standard Deviation : {:.2f}'.format(np.std(label)) )\n",
    "    \n",
    "    plt.title(\"Age Distribution\")\n",
    "    sns.histplot(data = df, x = 'Age')"
   ]
  },
  {
   "cell_type": "code",
   "execution_count": 47,
   "id": "2bb688b8",
   "metadata": {},
   "outputs": [
    {
     "name": "stdout",
     "output_type": "stream",
     "text": [
      "shape :  (1113, 155)\n",
      "Min : 22.00\n",
      "Max : 37.00\n",
      "Range : 22.00 ~ 37.00\n",
      "Median : 29.00\n",
      "Standard Deviation : 3.70\n"
     ]
    },
    {
     "data": {
      "image/png": "[encoded data removed]",
      "text/plain": [
       "<Figure size 432x288 with 1 Axes>"
      ]
     },
     "metadata": {
      "needs_background": "light"
     },
     "output_type": "display_data"
    }
   ],
   "source": [
    "df_info_hcp(hcp_1200)"
   ]
  },
  {
   "cell_type": "code",
   "execution_count": 48,
   "id": "b10061a1",
   "metadata": {},
   "outputs": [],
   "source": [
    "hcp_y = hcp_1200['Age']\n",
    "hcp_X = hcp_1200.drop('Age', axis = 1)\n",
    "\n",
    "# 5 bins may be too few for larger datasets.\n",
    "bins     = np.linspace(start=22, stop=37, num=5)\n",
    "y_binned = np.digitize(hcp_y, bins, right=True)\n",
    "\n",
    "hcp_x_train, hcp_x_test, hcp_y_train, hcp_y_test = train_test_split(hcp_X, hcp_y, test_size = 0.2, stratify=y_binned, shuffle = True, random_state = 1)"
   ]
  },
  {
   "cell_type": "code",
   "execution_count": 49,
   "id": "f7264a43",
   "metadata": {},
   "outputs": [
    {
     "name": "stdout",
     "output_type": "stream",
     "text": [
      "(890, 154)\n",
      "(890,)\n",
      "(223, 154)\n",
      "(223,)\n"
     ]
    }
   ],
   "source": [
    "print(hcp_x_train.shape)\n",
    "print(hcp_y_train.shape)\n",
    "\n",
    "print(hcp_x_test.shape)\n",
    "print(hcp_y_test.shape)"
   ]
  },
  {
   "cell_type": "code",
   "execution_count": 50,
   "id": "12e8b0d6",
   "metadata": {},
   "outputs": [],
   "source": [
    "hcp_train = pd.concat([hcp_x_train, hcp_y_train], axis =1)\n",
    "hcp_test = pd.concat([hcp_x_test, hcp_y_test], axis =1)"
   ]
  },
  {
   "cell_type": "code",
   "execution_count": 51,
   "id": "35fb6f4c",
   "metadata": {},
   "outputs": [
    {
     "name": "stdout",
     "output_type": "stream",
     "text": [
      "shape :  (890, 155)\n",
      "Min : 22.00\n",
      "Max : 37.00\n",
      "Range : 22.00 ~ 37.00\n",
      "Median : 29.00\n",
      "Standard Deviation : 3.70\n"
     ]
    },
    {
     "data": {
      "image/png": "[encoded data removed]",
      "text/plain": [
       "<Figure size 432x288 with 1 Axes>"
      ]
     },
     "metadata": {
      "needs_background": "light"
     },
     "output_type": "display_data"
    }
   ],
   "source": [
    "df_info_hcp(hcp_train)"
   ]
  },
  {
   "cell_type": "code",
   "execution_count": 52,
   "id": "9feca696",
   "metadata": {},
   "outputs": [
    {
     "name": "stdout",
     "output_type": "stream",
     "text": [
      "shape :  (223, 155)\n",
      "Min : 22.00\n",
      "Max : 36.00\n",
      "Range : 22.00 ~ 36.00\n",
      "Median : 29.00\n",
      "Standard Deviation : 3.69\n"
     ]
    },
    {
     "data": {
      "image/png": "[encoded data removed]",
      "text/plain": [
       "<Figure size 432x288 with 1 Axes>"
      ]
     },
     "metadata": {
      "needs_background": "light"
     },
     "output_type": "display_data"
    }
   ],
   "source": [
    "df_info_hcp(hcp_test)"
   ]
  },
  {
   "cell_type": "code",
   "execution_count": 53,
   "id": "ae2644a1",
   "metadata": {},
   "outputs": [
    {
     "data": {
      "text/html": [
       "<div>\n",
       "<style scoped>\n",
       "    .dataframe tbody tr th:only-of-type {\n",
       "        vertical-align: middle;\n",
       "    }\n",
       "\n",
       "    .dataframe tbody tr th {\n",
       "        vertical-align: top;\n",
       "    }\n",
       "\n",
       "    .dataframe thead th {\n",
       "        text-align: right;\n",
       "    }\n",
       "</style>\n",
       "<table border=\"1\" class=\"dataframe\">\n",
       "  <thead>\n",
       "    <tr style=\"text-align: right;\">\n",
       "      <th></th>\n",
       "      <th>Age</th>\n",
       "    </tr>\n",
       "  </thead>\n",
       "  <tbody>\n",
       "    <tr>\n",
       "      <th>849</th>\n",
       "      <td>23</td>\n",
       "    </tr>\n",
       "    <tr>\n",
       "      <th>474</th>\n",
       "      <td>34</td>\n",
       "    </tr>\n",
       "    <tr>\n",
       "      <th>279</th>\n",
       "      <td>30</td>\n",
       "    </tr>\n",
       "    <tr>\n",
       "      <th>488</th>\n",
       "      <td>31</td>\n",
       "    </tr>\n",
       "    <tr>\n",
       "      <th>193</th>\n",
       "      <td>22</td>\n",
       "    </tr>\n",
       "    <tr>\n",
       "      <th>...</th>\n",
       "      <td>...</td>\n",
       "    </tr>\n",
       "    <tr>\n",
       "      <th>367</th>\n",
       "      <td>30</td>\n",
       "    </tr>\n",
       "    <tr>\n",
       "      <th>458</th>\n",
       "      <td>26</td>\n",
       "    </tr>\n",
       "    <tr>\n",
       "      <th>850</th>\n",
       "      <td>32</td>\n",
       "    </tr>\n",
       "    <tr>\n",
       "      <th>130</th>\n",
       "      <td>28</td>\n",
       "    </tr>\n",
       "    <tr>\n",
       "      <th>1026</th>\n",
       "      <td>23</td>\n",
       "    </tr>\n",
       "  </tbody>\n",
       "</table>\n",
       "<p>223 rows × 1 columns</p>\n",
       "</div>"
      ],
      "text/plain": [
       "      Age\n",
       "849    23\n",
       "474    34\n",
       "279    30\n",
       "488    31\n",
       "193    22\n",
       "...   ...\n",
       "367    30\n",
       "458    26\n",
       "850    32\n",
       "130    28\n",
       "1026   23\n",
       "\n",
       "[223 rows x 1 columns]"
      ]
     },
     "execution_count": 53,
     "metadata": {},
     "output_type": "execute_result"
    }
   ],
   "source": [
    "hcp_x_train = hcp_train.drop('Age', axis = 1)\n",
    "hcp_y_train = hcp_train[['Age']]\n",
    "\n",
    "hcp_x_test = hcp_test.drop('Age', axis =1)\n",
    "hcp_y_test = hcp_test[['Age']]"
   ]
  },
  {
   "cell_type": "code",
   "execution_count": 55,
   "id": "2f502d97",
   "metadata": {},
   "outputs": [],
   "source": [
    "hcp_x_train.to_csv('./HCP_153/hcp_x_train.csv')\n",
    "hcp_y_train.to_csv('./HCP_153/hcp_y_train.csv')\n",
    "\n",
    "hcp_x_test.to_csv('./HCP_153/hcp_x_test.csv')\n",
    "hcp_y_test.to_csv('./HCP_153/hcp_y_test.csv')"
   ]
  },
  {
   "cell_type": "code",
   "execution_count": 56,
   "id": "a2402566",
   "metadata": {},
   "outputs": [],
   "source": [
    "hcp_train.to_csv('./HCP_153/hcp_train.csv')\n",
    "hcp_test.to_csv('./HCP_153/hcp_test.csv')"
   ]
  },
  {
   "cell_type": "markdown",
   "id": "80288a79",
   "metadata": {},
   "source": [
    "# IXI Dataset"
   ]
  },
  {
   "cell_type": "code",
   "execution_count": 67,
   "id": "d5fb9e25",
   "metadata": {},
   "outputs": [
    {
     "name": "stdout",
     "output_type": "stream",
     "text": [
      "(453, 166)\n"
     ]
    }
   ],
   "source": [
    "ixi_train = pd.read_csv('ixi_train.csv', index_col = 0)\n",
    "ixi_test = pd.read_csv('ixi_test.csv', index_col = 0)\n",
    "print(ixi_train.shape)"
   ]
  },
  {
   "cell_type": "code",
   "execution_count": 68,
   "id": "ffa6bc1d",
   "metadata": {},
   "outputs": [],
   "source": [
    "ixi_train = ixi_train.drop(['HEIGHT', 'WEIGHT','scan_site_HH', 'scan_site_IOP', 'BrainSegVolNotVent', 'lh_MeanThickness_thickness', 'lh_WhiteSurfArea_area', 'rh_MeanThickness_thickness', 'rh_WhiteSurfArea_area'], axis = 1)\n",
    "ixi_test = ixi_test.drop(['HEIGHT', 'WEIGHT','scan_site_HH', 'scan_site_IOP', 'BrainSegVolNotVent', 'lh_MeanThickness_thickness', 'lh_WhiteSurfArea_area', 'rh_MeanThickness_thickness', 'rh_WhiteSurfArea_area'], axis = 1)"
   ]
  },
  {
   "cell_type": "code",
   "execution_count": 72,
   "id": "64c0689f",
   "metadata": {},
   "outputs": [],
   "source": [
    "ixi_train.drop('brain_gap', axis = 1, inplace = True)\n",
    "ixi_test.drop('brain_gap', axis = 1, inplace =True)"
   ]
  },
  {
   "cell_type": "code",
   "execution_count": 75,
   "id": "b70a7cff",
   "metadata": {},
   "outputs": [],
   "source": [
    "ixi_train.drop('predicted_age', axis = 1, inplace = True)\n",
    "ixi_test.drop('predicted_age', axis = 1, inplace =True)"
   ]
  },
  {
   "cell_type": "code",
   "execution_count": 76,
   "id": "da8b51f8",
   "metadata": {},
   "outputs": [
    {
     "name": "stdout",
     "output_type": "stream",
     "text": [
      "(453, 155)\n",
      "(114, 155)\n"
     ]
    }
   ],
   "source": [
    "print(ixi_train.shape)\n",
    "print(ixi_test.shape)"
   ]
  },
  {
   "cell_type": "code",
   "execution_count": 77,
   "id": "6326b7d5",
   "metadata": {},
   "outputs": [],
   "source": [
    "ixi_train.to_csv('./IXI_153/ixi_train.csv')\n",
    "ixi_test.to_csv('./IXI_153/ixi_test.csv')"
   ]
  },
  {
   "cell_type": "markdown",
   "id": "f9b792cb",
   "metadata": {},
   "source": [
    "# Final Check"
   ]
  },
  {
   "cell_type": "code",
   "execution_count": 80,
   "id": "ed1e75e0",
   "metadata": {},
   "outputs": [],
   "source": [
    "ixi_train = pd.read_csv('./IXI_153/ixi_train.csv', index_col = 0)\n",
    "ixi_test = pd.read_csv('./IXI_153/ixi_test.csv', index_col = 0)\n",
    "\n",
    "cc_train = pd.read_csv('./CAMCAN_153/cc_train.csv', index_col = 0)\n",
    "cc_test = pd.read_csv('./CAMCAN_153/cc_test.csv', index_col = 0)\n",
    "\n",
    "hcp_train = pd.read_csv('./HCP_153/hcp_train.csv', index_col = 0)\n",
    "hcp_test = pd.read_csv('./HCP_153/hcp_test.csv', index_col = 0)"
   ]
  },
  {
   "cell_type": "code",
   "execution_count": 81,
   "id": "c92aa03b",
   "metadata": {},
   "outputs": [
    {
     "name": "stdout",
     "output_type": "stream",
     "text": [
      "(453, 155)\n",
      "(114, 155)\n",
      "(500, 155)\n",
      "(101, 155)\n",
      "(890, 155)\n",
      "(223, 155)\n"
     ]
    }
   ],
   "source": [
    "print(ixi_train.shape)\n",
    "print(ixi_test.shape)\n",
    "\n",
    "print(cc_train.shape)\n",
    "print(cc_test.shape)\n",
    "\n",
    "print(hcp_train.shape)\n",
    "print(hcp_test.shape)"
   ]
  },
  {
   "cell_type": "code",
   "execution_count": null,
   "id": "c0107eb6",
   "metadata": {},
   "outputs": [],
   "source": []
  }
 ],
 "metadata": {
  "kernelspec": {
   "display_name": "Python 3 (ipykernel)",
   "language": "python",
   "name": "python3"
  },
  "language_info": {
   "codemirror_mode": {
    "name": "ipython",
    "version": 3
   },
   "file_extension": ".py",
   "mimetype": "text/x-python",
   "name": "python",
   "nbconvert_exporter": "python",
   "pygments_lexer": "ipython3",
   "version": "3.8.12"
  }
 },
 "nbformat": 4,
 "nbformat_minor": 5
}
